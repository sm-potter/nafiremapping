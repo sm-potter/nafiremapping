{
 "cells": [
  {
   "cell_type": "code",
   "execution_count": 4,
   "id": "f28f9a29-b98e-4e6c-87a7-3993e29efbe1",
   "metadata": {
    "tags": []
   },
   "outputs": [
    {
     "data": {
      "text/html": [
       "<table class=\"dataframe\">\n",
       "<caption>A tibble: 7 × 5</caption>\n",
       "<thead>\n",
       "\t<tr><th scope=col>Class</th><th scope=col>Area</th><th scope=col>Percent</th><th scope=col>Tile_Size</th><th scope=col>Location</th></tr>\n",
       "\t<tr><th scope=col>&lt;chr&gt;</th><th scope=col>&lt;dbl&gt;</th><th scope=col>&lt;dbl&gt;</th><th scope=col>&lt;chr&gt;</th><th scope=col>&lt;chr&gt;</th></tr>\n",
       "</thead>\n",
       "<tbody>\n",
       "\t<tr><td>Us_Com   </td><td>0.008920893</td><td>0.006227441</td><td>128_32</td><td>AK_2015</td></tr>\n",
       "\t<tr><td>Us_Int   </td><td>1.205792888</td><td>0.841732233</td><td>128_32</td><td>AK_2015</td></tr>\n",
       "\t<tr><td>Us_Om    </td><td>0.217799839</td><td>0.152040327</td><td>128_32</td><td>AK_2015</td></tr>\n",
       "\t<tr><td>Gabam_Com</td><td>0.005779921</td><td>0.004237691</td><td>128_32</td><td>AK_2015</td></tr>\n",
       "\t<tr><td>Gabam_Int</td><td>0.917590329</td><td>0.672753774</td><td>128_32</td><td>AK_2015</td></tr>\n",
       "\t<tr><td>Gabam_Om </td><td>0.440561643</td><td>0.323008535</td><td>128_32</td><td>AK_2015</td></tr>\n",
       "\t<tr><td>Fire_Area</td><td>1.358151971</td><td>         NA</td><td>128_32</td><td>AK_2015</td></tr>\n",
       "</tbody>\n",
       "</table>\n"
      ],
      "text/latex": [
       "A tibble: 7 × 5\n",
       "\\begin{tabular}{lllll}\n",
       " Class & Area & Percent & Tile\\_Size & Location\\\\\n",
       " <chr> & <dbl> & <dbl> & <chr> & <chr>\\\\\n",
       "\\hline\n",
       "\t Us\\_Com    & 0.008920893 & 0.006227441 & 128\\_32 & AK\\_2015\\\\\n",
       "\t Us\\_Int    & 1.205792888 & 0.841732233 & 128\\_32 & AK\\_2015\\\\\n",
       "\t Us\\_Om     & 0.217799839 & 0.152040327 & 128\\_32 & AK\\_2015\\\\\n",
       "\t Gabam\\_Com & 0.005779921 & 0.004237691 & 128\\_32 & AK\\_2015\\\\\n",
       "\t Gabam\\_Int & 0.917590329 & 0.672753774 & 128\\_32 & AK\\_2015\\\\\n",
       "\t Gabam\\_Om  & 0.440561643 & 0.323008535 & 128\\_32 & AK\\_2015\\\\\n",
       "\t Fire\\_Area & 1.358151971 &          NA & 128\\_32 & AK\\_2015\\\\\n",
       "\\end{tabular}\n"
      ],
      "text/markdown": [
       "\n",
       "A tibble: 7 × 5\n",
       "\n",
       "| Class &lt;chr&gt; | Area &lt;dbl&gt; | Percent &lt;dbl&gt; | Tile_Size &lt;chr&gt; | Location &lt;chr&gt; |\n",
       "|---|---|---|---|---|\n",
       "| Us_Com    | 0.008920893 | 0.006227441 | 128_32 | AK_2015 |\n",
       "| Us_Int    | 1.205792888 | 0.841732233 | 128_32 | AK_2015 |\n",
       "| Us_Om     | 0.217799839 | 0.152040327 | 128_32 | AK_2015 |\n",
       "| Gabam_Com | 0.005779921 | 0.004237691 | 128_32 | AK_2015 |\n",
       "| Gabam_Int | 0.917590329 | 0.672753774 | 128_32 | AK_2015 |\n",
       "| Gabam_Om  | 0.440561643 | 0.323008535 | 128_32 | AK_2015 |\n",
       "| Fire_Area | 1.358151971 |          NA | 128_32 | AK_2015 |\n",
       "\n"
      ],
      "text/plain": [
       "  Class     Area        Percent     Tile_Size Location\n",
       "1 Us_Com    0.008920893 0.006227441 128_32    AK_2015 \n",
       "2 Us_Int    1.205792888 0.841732233 128_32    AK_2015 \n",
       "3 Us_Om     0.217799839 0.152040327 128_32    AK_2015 \n",
       "4 Gabam_Com 0.005779921 0.004237691 128_32    AK_2015 \n",
       "5 Gabam_Int 0.917590329 0.672753774 128_32    AK_2015 \n",
       "6 Gabam_Om  0.440561643 0.323008535 128_32    AK_2015 \n",
       "7 Fire_Area 1.358151971          NA 128_32    AK_2015 "
      ]
     },
     "metadata": {},
     "output_type": "display_data"
    }
   ],
   "source": [
    "library(tidyverse)\n",
    "\n",
    "\n",
    "#all input pathways\n",
    "# in_paths = c('/explore/nobackup/people/spotter5/cnn_mapping/nbac_training/om_com_2015_64_32',\n",
    "#              '/explore/nobackup/people/spotter5/cnn_mapping/nbac_training/om_com_2015_128_32',\n",
    "#              '/explore/nobackup/people/spotter5/cnn_mapping/nbac_training/om_com_2015_256_64',\n",
    "#              '/explore/nobackup/people/spotter5/cnn_mapping/nbac_training/om_com_2015_450_64',\n",
    "#              '/explore/nobackup/people/spotter5/cnn_mapping/nbac_training/om_com_2015_compare_combined',\n",
    "#              '/explore/nobackup/people/spotter5/cnn_mapping/nbac_training/om_com_2015_compare_combined2_median'\n",
    "#          )\n",
    "\n",
    "in_paths = c(\n",
    "             '/explore/nobackup/people/spotter5/cnn_mapping/nbac_training/om_com_2015_128_32'\n",
    "         )\n",
    "\n",
    "\n",
    "\n",
    "final = list()\n",
    "\n",
    "#loop through each path and get stats\n",
    "for(in_path in in_paths){\n",
    "    \n",
    "    \n",
    "\n",
    "    #read all in at once\n",
    "    df = list.files(in_path, full.names = T, pattern = \"*.csv\") %>%  map_df(~read_csv(., col_types = cols()))\n",
    "\n",
    "    #groupby by the year and get total intersection, omission and comission\n",
    "    df = df %>% group_by(Class) %>% summarize(Area = sum(Area))\n",
    "   \n",
    "    # #get the total burned area (verify with polygons it matches), the files are in m2, convert to mHa (m2 * 0.0001) / 1e6\n",
    "    df = df %>% mutate(Area = Area * 0.0001 / 1e6)\n",
    "    \n",
    "    #lfdb fire area\n",
    "    lfdb_area = df %>% filter(Class == 'Fire_Area')\n",
    "    \n",
    "    \n",
    "    #now find out which percent for us and gabam is intersecting, omission and comission\n",
    "    gabam = df %>% filter(Class %in% c('Gabam_Com', 'Gabam_Int', 'Gabam_Om'))\n",
    "    us =  df %>% filter(Class %in% c('Us_Com', 'Us_Int', 'Us_Om'))\n",
    "    \n",
    "    \n",
    "    gabam_tot = sum(gabam$Area)\n",
    "    us_tot = sum(us$Area)\n",
    "    \n",
    "    gabam_pct = gabam %>% mutate(Percent = Area / gabam_tot)\n",
    "    us_pct = us %>% mutate(Percent = Area / us_tot)\n",
    "    \n",
    "#     gabam_pct\n",
    "\n",
    "#     us_pct\n",
    "    \n",
    "    comb = bind_rows(us_pct, gabam_pct)\n",
    "    comb = bind_rows(comb, lfdb_area)\n",
    "    \n",
    "    splits = str_split(in_path, '_')[[1]]\n",
    "    size1 = splits[6]\n",
    "    size2 = splits[7]\n",
    "\n",
    "    ext = paste0(size1, '_', size2)\n",
    "    comb$Tile_Size = ext\n",
    "    final[[length(final) + 1]] = comb\n",
    "    \n",
    "    \n",
    "}\n",
    "\n",
    "\n",
    "final = bind_rows(final) %>% distinct(Class, Area, Percent, .keep_all = TRUE) %>% mutate(Location = 'AK_2015')\n",
    "\n",
    "write_csv(final, '/explore/nobackup/people/spotter5/cnn_mapping/nbac_training/ak_2015_gabam_compare.csv')\n",
    "final"
   ]
  },
  {
   "cell_type": "code",
   "execution_count": 3,
   "id": "7921792a-0d9d-4439-8d93-626a64f44b0f",
   "metadata": {
    "tags": []
   },
   "outputs": [
    {
     "data": {
      "text/html": [
       "<table class=\"dataframe\">\n",
       "<caption>A tibble: 7 × 5</caption>\n",
       "<thead>\n",
       "\t<tr><th scope=col>Class</th><th scope=col>Area</th><th scope=col>Percent</th><th scope=col>Tile_Size</th><th scope=col>Location</th></tr>\n",
       "\t<tr><th scope=col>&lt;chr&gt;</th><th scope=col>&lt;dbl&gt;</th><th scope=col>&lt;dbl&gt;</th><th scope=col>&lt;chr&gt;</th><th scope=col>&lt;chr&gt;</th></tr>\n",
       "</thead>\n",
       "<tbody>\n",
       "\t<tr><td>Us_Com   </td><td>0.11137133</td><td>0.048720592</td><td>128_32</td><td>NWT_2014</td></tr>\n",
       "\t<tr><td>Us_Int   </td><td>2.08497399</td><td>0.912094370</td><td>128_32</td><td>NWT_2014</td></tr>\n",
       "\t<tr><td>Us_Om    </td><td>0.08957383</td><td>0.039185038</td><td>128_32</td><td>NWT_2014</td></tr>\n",
       "\t<tr><td>Gabam_Com</td><td>0.01351911</td><td>0.006187786</td><td>128_32</td><td>NWT_2014</td></tr>\n",
       "\t<tr><td>Gabam_Int</td><td>1.32047238</td><td>0.604388904</td><td>128_32</td><td>NWT_2014</td></tr>\n",
       "\t<tr><td>Gabam_Om </td><td>0.85081430</td><td>0.389423310</td><td>128_32</td><td>NWT_2014</td></tr>\n",
       "\t<tr><td>Fire_Area</td><td>2.17128669</td><td>         NA</td><td>128_32</td><td>NWT_2014</td></tr>\n",
       "</tbody>\n",
       "</table>\n"
      ],
      "text/latex": [
       "A tibble: 7 × 5\n",
       "\\begin{tabular}{lllll}\n",
       " Class & Area & Percent & Tile\\_Size & Location\\\\\n",
       " <chr> & <dbl> & <dbl> & <chr> & <chr>\\\\\n",
       "\\hline\n",
       "\t Us\\_Com    & 0.11137133 & 0.048720592 & 128\\_32 & NWT\\_2014\\\\\n",
       "\t Us\\_Int    & 2.08497399 & 0.912094370 & 128\\_32 & NWT\\_2014\\\\\n",
       "\t Us\\_Om     & 0.08957383 & 0.039185038 & 128\\_32 & NWT\\_2014\\\\\n",
       "\t Gabam\\_Com & 0.01351911 & 0.006187786 & 128\\_32 & NWT\\_2014\\\\\n",
       "\t Gabam\\_Int & 1.32047238 & 0.604388904 & 128\\_32 & NWT\\_2014\\\\\n",
       "\t Gabam\\_Om  & 0.85081430 & 0.389423310 & 128\\_32 & NWT\\_2014\\\\\n",
       "\t Fire\\_Area & 2.17128669 &          NA & 128\\_32 & NWT\\_2014\\\\\n",
       "\\end{tabular}\n"
      ],
      "text/markdown": [
       "\n",
       "A tibble: 7 × 5\n",
       "\n",
       "| Class &lt;chr&gt; | Area &lt;dbl&gt; | Percent &lt;dbl&gt; | Tile_Size &lt;chr&gt; | Location &lt;chr&gt; |\n",
       "|---|---|---|---|---|\n",
       "| Us_Com    | 0.11137133 | 0.048720592 | 128_32 | NWT_2014 |\n",
       "| Us_Int    | 2.08497399 | 0.912094370 | 128_32 | NWT_2014 |\n",
       "| Us_Om     | 0.08957383 | 0.039185038 | 128_32 | NWT_2014 |\n",
       "| Gabam_Com | 0.01351911 | 0.006187786 | 128_32 | NWT_2014 |\n",
       "| Gabam_Int | 1.32047238 | 0.604388904 | 128_32 | NWT_2014 |\n",
       "| Gabam_Om  | 0.85081430 | 0.389423310 | 128_32 | NWT_2014 |\n",
       "| Fire_Area | 2.17128669 |          NA | 128_32 | NWT_2014 |\n",
       "\n"
      ],
      "text/plain": [
       "  Class     Area       Percent     Tile_Size Location\n",
       "1 Us_Com    0.11137133 0.048720592 128_32    NWT_2014\n",
       "2 Us_Int    2.08497399 0.912094370 128_32    NWT_2014\n",
       "3 Us_Om     0.08957383 0.039185038 128_32    NWT_2014\n",
       "4 Gabam_Com 0.01351911 0.006187786 128_32    NWT_2014\n",
       "5 Gabam_Int 1.32047238 0.604388904 128_32    NWT_2014\n",
       "6 Gabam_Om  0.85081430 0.389423310 128_32    NWT_2014\n",
       "7 Fire_Area 2.17128669          NA 128_32    NWT_2014"
      ]
     },
     "metadata": {},
     "output_type": "display_data"
    }
   ],
   "source": [
    "library(tidyverse)\n",
    "\n",
    "\n",
    "#all input pathways\n",
    "# in_paths = c('/explore/nobackup/people/spotter5/cnn_mapping/nbac_training/om_com_2014_64_32',\n",
    "         #     '/explore/nobackup/people/spotter5/cnn_mapping/nbac_training/om_com_2014_128_32',\n",
    "         #     '/explore/nobackup/people/spotter5/cnn_mapping/nbac_training/om_com_2014_256_64',\n",
    "         #     '/explore/nobackup/people/spotter5/cnn_mapping/nbac_training/om_com_2014_450_64',\n",
    "         #     '/explore/nobackup/people/spotter5/cnn_mapping/nbac_training/om_com_2014_compare_combined',\n",
    "         #     '/explore/nobackup/people/spotter5/cnn_mapping/nbac_training/om_com_2014_compare_combined2_median'\n",
    "         # )\n",
    "\n",
    "\n",
    "in_paths = c(\n",
    "             '/explore/nobackup/people/spotter5/cnn_mapping/nbac_training/om_com_2014_128_32'\n",
    "\n",
    "         )\n",
    "\n",
    "\n",
    "final = list()\n",
    "\n",
    "#loop through each path and get stats\n",
    "for(in_path in in_paths){\n",
    "    \n",
    "    \n",
    "\n",
    "    #read all in at once\n",
    "    df = list.files(in_path, full.names = T, pattern = \"*.csv\") %>%  map_df(~read_csv(., col_types = cols()))\n",
    "\n",
    "    #groupby by the year and get total intersection, omission and comission\n",
    "    df = df %>% group_by(Class) %>% summarize(Area = sum(Area))\n",
    "   \n",
    "    # #get the total burned area (verify with polygons it matches), the files are in m2, convert to mHa (m2 * 0.0001) / 1e6\n",
    "    df = df %>% mutate(Area = Area * 0.0001 / 1e6)\n",
    "    \n",
    "    #lfdb fire area\n",
    "    lfdb_area = df %>% filter(Class == 'Fire_Area')\n",
    "    \n",
    "    \n",
    "    #now find out which percent for us and gabam is intersecting, omission and comission\n",
    "    gabam = df %>% filter(Class %in% c('Gabam_Com', 'Gabam_Int', 'Gabam_Om'))\n",
    "    us =  df %>% filter(Class %in% c('Us_Com', 'Us_Int', 'Us_Om'))\n",
    "    \n",
    "    \n",
    "    gabam_tot = sum(gabam$Area)\n",
    "    us_tot = sum(us$Area)\n",
    "    \n",
    "    gabam_pct = gabam %>% mutate(Percent = Area / gabam_tot)\n",
    "    us_pct = us %>% mutate(Percent = Area / us_tot)\n",
    "    \n",
    "#     gabam_pct\n",
    "\n",
    "#     us_pct\n",
    "    \n",
    "    comb = bind_rows(us_pct, gabam_pct)\n",
    "    comb = bind_rows(comb, lfdb_area)\n",
    "    \n",
    "    splits = str_split(in_path, '_')[[1]]\n",
    "    size1 = splits[6]\n",
    "    size2 = splits[7]\n",
    "\n",
    "    ext = paste0(size1, '_', size2)\n",
    "    comb$Tile_Size = ext\n",
    "    final[[length(final) + 1]] = comb\n",
    "    \n",
    "    \n",
    "}\n",
    "\n",
    "\n",
    "final = bind_rows(final) %>% distinct(Class, Area, Percent, .keep_all = TRUE) %>% mutate(Location = 'NWT_2014')\n",
    "\n",
    "write_csv(final, '/explore/nobackup/people/spotter5/cnn_mapping/nbac_training/nwt_2014_gabam_compare.csv')\n",
    "final"
   ]
  },
  {
   "cell_type": "code",
   "execution_count": 15,
   "id": "3d9bb1f0-6ddc-45c8-89d8-5444f5d8a3e6",
   "metadata": {},
   "outputs": [
    {
     "data": {
      "text/html": [
       "'t'"
      ],
      "text/latex": [
       "'t'"
      ],
      "text/markdown": [
       "'t'"
      ],
      "text/plain": [
       "[1] \"t\""
      ]
     },
     "metadata": {},
     "output_type": "display_data"
    }
   ],
   "source": [
    "'t'"
   ]
  },
  {
   "cell_type": "code",
   "execution_count": null,
   "id": "fc437a85-c892-46d8-b61f-ff0c64079fc8",
   "metadata": {},
   "outputs": [],
   "source": []
  }
 ],
 "metadata": {
  "kernelspec": {
   "display_name": "R [conda env:.conda-spotter-r]",
   "language": "R",
   "name": "conda-env-.conda-spotter-r-r"
  },
  "language_info": {
   "codemirror_mode": "r",
   "file_extension": ".r",
   "mimetype": "text/x-r-source",
   "name": "R",
   "pygments_lexer": "r",
   "version": "4.1.3"
  }
 },
 "nbformat": 4,
 "nbformat_minor": 5
}
