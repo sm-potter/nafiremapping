{
 "cells": [
  {
   "cell_type": "markdown",
   "metadata": {},
   "source": [
    "Read in packages"
   ]
  },
  {
   "cell_type": "code",
   "execution_count": 2,
   "metadata": {
    "tags": []
   },
   "outputs": [],
   "source": [
    "import pandas as pd\n",
    "import os\n",
    "import albumentations as A"
   ]
  },
  {
   "cell_type": "markdown",
   "metadata": {},
   "source": [
    "Read in the training files"
   ]
  },
  {
   "cell_type": "code",
   "execution_count": 8,
   "metadata": {
    "tags": []
   },
   "outputs": [
    {
     "data": {
      "text/plain": [
       "'Done Augmenting'"
      ]
     },
     "execution_count": 8,
     "metadata": {},
     "output_type": "execute_result"
    }
   ],
   "source": [
    "#augmentation I wish to use\n",
    "transform = A.Compose([\n",
    "    A.RandomCrop(width=128, height=128),\n",
    "    A.HorizontalFlip(p=0.7),\n",
    "    A.ShiftScaleRotate(p=0.7),\n",
    "    A.VerticalFlip(p=0.7)\n",
    "])\n",
    "\n",
    "def my_aug(in_path, out_path, n_aug):\n",
    "    \n",
    "    '''Augments the MODIS imagery using and desired augmentation types\n",
    "\n",
    "    Parameters\n",
    "    ----------\n",
    "    in_path : pathway to training files to augment\n",
    "    out_path : where to save augmented images\n",
    "    n_aug : number of times to augment.  For instance if 10 training images and n_aug is 10 we will get 100 images\n",
    "\n",
    "    Returns\n",
    "    -------\n",
    "    NA : Saves augmented numpy arrays\n",
    "    '''\n",
    "    \n",
    "    #make out paths\n",
    "    if not os.path.isdir(out_path):\n",
    "        os.makedirs(out_path)\n",
    "   \n",
    "    \n",
    "    #loop through files\n",
    "    for f in training_files:\n",
    "        \n",
    "        #get basename\n",
    "        basename = os.path.basename(f)\n",
    "        \n",
    "        if f.endswith('.npy'):\n",
    "            \n",
    "            #read in image\n",
    "            img = np.load(f)\n",
    "            \n",
    "            #read in x\n",
    "            x = img[:, :, :-1]\n",
    "            \n",
    "            #read in y\n",
    "            y = img[:, :, -1]\n",
    "\n",
    "\n",
    "            #loop throgh number of times to augment\n",
    "            for i in range(n_aug):\n",
    "\n",
    "                \n",
    "                #transformed image\n",
    "                transformed = transform(image=x, mask=y)\n",
    "                \n",
    "                #transformed x\n",
    "                my_im = transformed['image']\n",
    "                \n",
    "                #transformed y\n",
    "                lb = transformed['mask']\n",
    "                \n",
    "                #combine\n",
    "                img_trans = np.dstack([my_im, lb])\n",
    "\n",
    "                i_out = str(i) + '_' + basename\n",
    "                np.save(os.path.join(out_path, i_out), img_trans)\n",
    "                \n",
    "    return('Done Augmenting')\n",
    "\n",
    "#training path\n",
    "training_files = pd.read_csv('/explore/nobackup/people/spotter5/cnn_mapping/nbac_training/nbac_modis_crop_0_128_training_files.csv')['Files'].tolist()\n",
    "                \n",
    "#run augmentation\n",
    "my_aug(in_path = training_files, \n",
    "      out_path = '/explore/nobackup/people/spotter5/cnn_mapping/nbac_training/nbac_modis_subs_0_128_aug', \n",
    "      n_aug = 10)\n",
    "        \n"
   ]
  },
  {
   "cell_type": "code",
   "execution_count": null,
   "metadata": {},
   "outputs": [],
   "source": []
  }
 ],
 "metadata": {
  "kernelspec": {
   "display_name": "Python [conda env:.conda-deeplearning]",
   "language": "python",
   "name": "conda-env-.conda-deeplearning-py"
  },
  "language_info": {
   "codemirror_mode": {
    "name": "ipython",
    "version": 3
   },
   "file_extension": ".py",
   "mimetype": "text/x-python",
   "name": "python",
   "nbconvert_exporter": "python",
   "pygments_lexer": "ipython3",
   "version": "3.10.11"
  }
 },
 "nbformat": 4,
 "nbformat_minor": 4
}
