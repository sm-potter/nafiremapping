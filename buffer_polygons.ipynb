{
 "cells": [
  {
   "cell_type": "code",
   "execution_count": null,
   "id": "76ab9de7-21f8-4ba0-a7de-a9ccc7c10cf0",
   "metadata": {},
   "outputs": [
    {
     "name": "stderr",
     "output_type": "stream",
     "text": [
      "Linking to GEOS 3.11.0, GDAL 3.5.2, PROJ 9.0.1; sf_use_s2() is TRUE\n",
      "\n",
      "WARNING: different compile-time and runtime versions for GEOS found:\n",
      "\n",
      "Linked against: 3.11.0-CAPI-1.17.0 compiled against: 3.10.3-CAPI-1.16.1\n",
      "\n",
      "It is probably a good idea to reinstall sf, and maybe rgeos and rgdal too\n",
      "\n",
      "── \u001b[1mAttaching packages\u001b[22m ─────────────────────────────────────── tidyverse 1.3.2 ──\n",
      "\u001b[32m✔\u001b[39m \u001b[34mggplot2\u001b[39m 3.3.6      \u001b[32m✔\u001b[39m \u001b[34mpurrr  \u001b[39m 0.3.4 \n",
      "\u001b[32m✔\u001b[39m \u001b[34mtibble \u001b[39m 3.1.8      \u001b[32m✔\u001b[39m \u001b[34mdplyr  \u001b[39m 1.0.10\n",
      "\u001b[32m✔\u001b[39m \u001b[34mtidyr  \u001b[39m 1.2.1      \u001b[32m✔\u001b[39m \u001b[34mstringr\u001b[39m 1.4.1 \n",
      "\u001b[32m✔\u001b[39m \u001b[34mreadr  \u001b[39m 2.1.2      \u001b[32m✔\u001b[39m \u001b[34mforcats\u001b[39m 0.5.2 \n",
      "── \u001b[1mConflicts\u001b[22m ────────────────────────────────────────── tidyverse_conflicts() ──\n",
      "\u001b[31m✖\u001b[39m \u001b[34mdplyr\u001b[39m::\u001b[32mfilter()\u001b[39m masks \u001b[34mstats\u001b[39m::filter()\n",
      "\u001b[31m✖\u001b[39m \u001b[34mdplyr\u001b[39m::\u001b[32mlag()\u001b[39m    masks \u001b[34mstats\u001b[39m::lag()\n"
     ]
    }
   ],
   "source": [
    "library(sf)\n",
    "library(tidyverse)\n",
    "\n",
    "#out path\n",
    "out = '/explore/nobackup/people/spotter5/cnn_mapping/raw_files/buffered_polygons'\n",
    "dir.create(out, recursive = T)\n",
    "\n",
    "#years of interest\n",
    "years = seq(2001, 2023, 1)\n",
    "\n",
    "#combined list  with all polygons\n",
    "all = c()\n",
    "#loop through\n",
    "for (year in years){\n",
    "  \n",
    "\n",
    "  #combined ak mtbs and canadian nbac databases buffered to 1km depending on year\n",
    "  lfdb = read_sf('/explore/nobackup/people/spotter5/cnn_mapping/raw_files/ak_ca_1985.shp') %>% filter(Year == year) %>% st_buffer(1000)\n",
    "  \n",
    "  #save\n",
    "  # write_sf(lfdb, file.path(out, paste0(year, 'shp')))\n",
    "           \n",
    "  all[[length(all) + 1]] = lfdb\n",
    "\n",
    "}\n",
    "\n",
    "all  = bind_rows(all)\n",
    "\n",
    "write_sf(all, file.path(out, '2001_2023_buff.shp'))\n",
    "\n",
    "\n"
   ]
  },
  {
   "cell_type": "code",
   "execution_count": null,
   "id": "b47f15c6-a609-4280-ab0f-ecaf685130b1",
   "metadata": {},
   "outputs": [],
   "source": []
  }
 ],
 "metadata": {
  "kernelspec": {
   "display_name": "R [conda env:.conda-spotter-r]",
   "language": "R",
   "name": "conda-env-.conda-spotter-r-r"
  },
  "language_info": {
   "codemirror_mode": "r",
   "file_extension": ".r",
   "mimetype": "text/x-r-source",
   "name": "R",
   "pygments_lexer": "r",
   "version": "4.1.3"
  }
 },
 "nbformat": 4,
 "nbformat_minor": 5
}
