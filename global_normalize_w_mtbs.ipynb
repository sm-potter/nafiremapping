{
 "cells": [
  {
   "cell_type": "markdown",
   "id": "7ab7ed55-becc-4709-8600-cc65fead86ee",
   "metadata": {},
   "source": [
    "This script will make it so all images are normalized the same by taking the global min and max per band and applying it to each image"
   ]
  },
  {
   "cell_type": "code",
   "execution_count": 1,
   "id": "75aac32c-c9f5-40ee-9492-87f348991567",
   "metadata": {},
   "outputs": [],
   "source": [
    "import pandas as pd\n",
    "import numpy as np\n",
    "import os"
   ]
  },
  {
   "cell_type": "code",
   "execution_count": 2,
   "id": "129901f4-7d52-44aa-90b5-b351d29cf512",
   "metadata": {},
   "outputs": [],
   "source": [
    "#function to get files from storage bucket\n",
    "def get_files(bucket_path):\n",
    "\n",
    "  \"\"\"argument is the path to where the numpy\n",
    "  save files are located, return a list of filenames\n",
    "  \"\"\"\n",
    "  all = []\n",
    "\n",
    "  #list of files\n",
    "  files = os.listdir(bucket_path)\n",
    "\n",
    "  #get list of filenames we will use, notte I remove images that don't have a target due to clouds\n",
    "  file_names = []\n",
    "  for f in files:\n",
    "    if f.endswith('.npy'):\n",
    "\n",
    "\n",
    "      all.append(os.path.join(bucket_path, f))\n",
    "  return(all)\n",
    "\n",
    "#function to get min and max of each column\n",
    "def minMax(x):\n",
    "    return pd.Series(index=['min','max'],data=[x.min(),x.max()])\n"
   ]
  },
  {
   "cell_type": "markdown",
   "id": "000ece67-14d7-4e1e-b84b-c9428ef63180",
   "metadata": {},
   "source": [
    "Now get the min-max globally but use the 5 and 95% cutoffs"
   ]
  },
  {
   "cell_type": "code",
   "execution_count": 3,
   "id": "2cd494c1-4569-4f7e-b48a-3d01855109cd",
   "metadata": {},
   "outputs": [],
   "source": [
    "#function to get the 5 and 95% cutoffs\n",
    "#function to get min and max of each column\n",
    "def minMax(x):\n",
    "    return pd.Series(index=['min','max'],data=[x.percentile(5),x.percentile(95)])\n"
   ]
  },
  {
   "cell_type": "code",
   "execution_count": 6,
   "id": "4aedbfa4-adc6-479e-9c85-b090da6b0cc6",
   "metadata": {},
   "outputs": [],
   "source": [
    "#path to training, validation and testing\n",
    "train_files = pd.read_csv('/explore/nobackup/people/spotter5/cnn_mapping/nbac_training/l8_sent_collection2_proj_mtbs_0_128_training_files.csv')['Files'].tolist()\n",
    "val_files = pd.read_csv('/explore/nobackup/people/spotter5/cnn_mapping/nbac_training/l8_sent_collection2_proj_mtbs_0_128_validation_files.csv')['Files'].tolist()\n",
    "test_files = pd.read_csv('/explore/nobackup/people/spotter5/cnn_mapping/nbac_training/l8_sent_collection2_proj_mtbs_0_128_testing_files.csv')['Files'].tolist()\n",
    "\n",
    "\n",
    "\n",
    "final = []\n",
    "\n",
    "\n",
    "def get_min_max(pathways):\n",
    "    \n",
    "    \n",
    "    for f in pathways:\n",
    "\n",
    "        base = os.path.basename(f)\n",
    "        \n",
    "        try:\n",
    "            x = np.load(f)\n",
    "            x = x.astype(float)\n",
    "            x[x == 0] = np.nan\n",
    "            x[x == -999] = np.nan\n",
    "\n",
    "            #convert to dataframe\n",
    "            in_shape = x.shape\n",
    "\n",
    "            #turn to dataframe to normalize\n",
    "            x = x.reshape(x.shape[0] * x.shape[1], x.shape[2])\n",
    "\n",
    "            # x = pd.DataFrame(x).dropna().sample(frac = 0.7)\n",
    "\n",
    "            x = pd.DataFrame(x).dropna()\n",
    "            # min_max = x.apply(minMax)\n",
    "\n",
    "            final.append(x)\n",
    "        except:\n",
    "            \n",
    "            print(f\"{f} failed\")\n",
    "            \n",
    "            \n",
    "            os.remove(f)\n",
    "        \n",
    "    return()\n",
    "\n",
    "get_min_max(train_files)\n",
    "get_min_max(test_files)\n",
    "get_min_max(val_files)\n",
    "\n",
    "final4 = pd.concat(final).quantile([.01, .99])\n",
    "final4\n",
    "final4.reset_index().to_csv(\"/explore/nobackup/people/spotter5/cnn_mapping/nbac_training/l8_sent_collection2_global_min_max_cutoff_proj_mtbs.csv\", index = False)\n",
    "\n"
   ]
  },
  {
   "cell_type": "code",
   "execution_count": 17,
   "id": "7392a001-aa1b-4920-87ed-a81fd92a4024",
   "metadata": {},
   "outputs": [
    {
     "data": {
      "text/plain": [
       "'t'"
      ]
     },
     "execution_count": 17,
     "metadata": {},
     "output_type": "execute_result"
    }
   ],
   "source": [
    "'t'"
   ]
  },
  {
   "cell_type": "code",
   "execution_count": 7,
   "id": "b7e4e6d3-6d8d-4796-a9fa-78261070ca62",
   "metadata": {},
   "outputs": [
    {
     "data": {
      "text/html": [
       "<div>\n",
       "<style scoped>\n",
       "    .dataframe tbody tr th:only-of-type {\n",
       "        vertical-align: middle;\n",
       "    }\n",
       "\n",
       "    .dataframe tbody tr th {\n",
       "        vertical-align: top;\n",
       "    }\n",
       "\n",
       "    .dataframe thead th {\n",
       "        text-align: right;\n",
       "    }\n",
       "</style>\n",
       "<table border=\"1\" class=\"dataframe\">\n",
       "  <thead>\n",
       "    <tr style=\"text-align: right;\">\n",
       "      <th></th>\n",
       "      <th>0</th>\n",
       "      <th>1</th>\n",
       "      <th>2</th>\n",
       "      <th>3</th>\n",
       "      <th>4</th>\n",
       "      <th>5</th>\n",
       "      <th>6</th>\n",
       "      <th>7</th>\n",
       "      <th>8</th>\n",
       "      <th>9</th>\n",
       "    </tr>\n",
       "  </thead>\n",
       "  <tbody>\n",
       "    <tr>\n",
       "      <th>0.01</th>\n",
       "      <td>-54.0</td>\n",
       "      <td>-49.0</td>\n",
       "      <td>-63.0</td>\n",
       "      <td>-49.0</td>\n",
       "      <td>-129.0</td>\n",
       "      <td>-155.0</td>\n",
       "      <td>21.0</td>\n",
       "      <td>-68.0</td>\n",
       "      <td>-9.0</td>\n",
       "      <td>1.0</td>\n",
       "    </tr>\n",
       "    <tr>\n",
       "      <th>0.99</th>\n",
       "      <td>44.0</td>\n",
       "      <td>55.0</td>\n",
       "      <td>51.0</td>\n",
       "      <td>175.0</td>\n",
       "      <td>73.0</td>\n",
       "      <td>18.0</td>\n",
       "      <td>974.0</td>\n",
       "      <td>522.0</td>\n",
       "      <td>686.0</td>\n",
       "      <td>1.0</td>\n",
       "    </tr>\n",
       "  </tbody>\n",
       "</table>\n",
       "</div>"
      ],
      "text/plain": [
       "         0     1     2      3      4      5      6      7      8    9\n",
       "0.01 -54.0 -49.0 -63.0  -49.0 -129.0 -155.0   21.0  -68.0   -9.0  1.0\n",
       "0.99  44.0  55.0  51.0  175.0   73.0   18.0  974.0  522.0  686.0  1.0"
      ]
     },
     "execution_count": 7,
     "metadata": {},
     "output_type": "execute_result"
    }
   ],
   "source": [
    "final4"
   ]
  },
  {
   "cell_type": "code",
   "execution_count": 39,
   "id": "9d25ad31-8dad-4af8-9d7d-45f298dd600e",
   "metadata": {},
   "outputs": [
    {
     "name": "stdout",
     "output_type": "stream",
     "text": [
      "   index     0     1     2      3      4      5      6      7      8    9\n",
      "0   0.01 -54.0 -49.0 -63.0  -49.0 -129.0 -155.0   21.0  -68.0   -9.0  1.0\n",
      "1   0.99  44.0  55.0  51.0  175.0   73.0   18.0  974.0  522.0  686.0  1.0\n"
     ]
    }
   ],
   "source": [
    "\n",
    "min_max = pd.read_csv(\"/explore/nobackup/people/spotter5/cnn_mapping/nbac_training/l8_sent_collection2_global_min_max_cutoff_proj.csv\").reset_index(drop = True)\n",
    "min_max2 = pd.read_csv(\"/explore/nobackup/people/spotter5/cnn_mapping/nbac_training/l8_sent_collection2_global_min_max_cutoff_proj.csv\").reset_index(drop = True)\n",
    "\n",
    "\n",
    "all_mins = pd.concat([min_max, min_max2]).min(axis = 0).to_frame().T\n",
    "all_maxs  = pd.concat([min_max, min_max2]).max(axis = 0).to_frame().T\n",
    "\n",
    "min_max = pd.concat([all_mins, all_maxs]).reset_index(drop = True)\n",
    "print(min_max)"
   ]
  },
  {
   "cell_type": "code",
   "execution_count": 31,
   "id": "068a8442-15da-41f5-b092-b6f427f82490",
   "metadata": {},
   "outputs": [
    {
     "data": {
      "text/html": [
       "<div>\n",
       "<style scoped>\n",
       "    .dataframe tbody tr th:only-of-type {\n",
       "        vertical-align: middle;\n",
       "    }\n",
       "\n",
       "    .dataframe tbody tr th {\n",
       "        vertical-align: top;\n",
       "    }\n",
       "\n",
       "    .dataframe thead th {\n",
       "        text-align: right;\n",
       "    }\n",
       "</style>\n",
       "<table border=\"1\" class=\"dataframe\">\n",
       "  <thead>\n",
       "    <tr style=\"text-align: right;\">\n",
       "      <th></th>\n",
       "      <th>index</th>\n",
       "      <th>0</th>\n",
       "      <th>1</th>\n",
       "      <th>2</th>\n",
       "      <th>3</th>\n",
       "      <th>4</th>\n",
       "      <th>5</th>\n",
       "      <th>6</th>\n",
       "      <th>7</th>\n",
       "      <th>8</th>\n",
       "      <th>9</th>\n",
       "    </tr>\n",
       "  </thead>\n",
       "  <tbody>\n",
       "    <tr>\n",
       "      <th>0</th>\n",
       "      <td>0.01</td>\n",
       "      <td>-54.0</td>\n",
       "      <td>-49.0</td>\n",
       "      <td>-63.0</td>\n",
       "      <td>-49.0</td>\n",
       "      <td>-129.0</td>\n",
       "      <td>-155.0</td>\n",
       "      <td>21.0</td>\n",
       "      <td>-68.0</td>\n",
       "      <td>-9.0</td>\n",
       "      <td>1.0</td>\n",
       "    </tr>\n",
       "  </tbody>\n",
       "</table>\n",
       "</div>"
      ],
      "text/plain": [
       "   index     0     1     2     3      4      5     6     7    8    9\n",
       "0   0.01 -54.0 -49.0 -63.0 -49.0 -129.0 -155.0  21.0 -68.0 -9.0  1.0"
      ]
     },
     "execution_count": 31,
     "metadata": {},
     "output_type": "execute_result"
    }
   ],
   "source": [
    "all_mins\n",
    "\n"
   ]
  },
  {
   "cell_type": "code",
   "execution_count": 32,
   "id": "020b6eaa-d601-4923-bd0c-0437570de9ac",
   "metadata": {},
   "outputs": [
    {
     "data": {
      "text/html": [
       "<div>\n",
       "<style scoped>\n",
       "    .dataframe tbody tr th:only-of-type {\n",
       "        vertical-align: middle;\n",
       "    }\n",
       "\n",
       "    .dataframe tbody tr th {\n",
       "        vertical-align: top;\n",
       "    }\n",
       "\n",
       "    .dataframe thead th {\n",
       "        text-align: right;\n",
       "    }\n",
       "</style>\n",
       "<table border=\"1\" class=\"dataframe\">\n",
       "  <thead>\n",
       "    <tr style=\"text-align: right;\">\n",
       "      <th></th>\n",
       "      <th>index</th>\n",
       "      <th>0</th>\n",
       "      <th>1</th>\n",
       "      <th>2</th>\n",
       "      <th>3</th>\n",
       "      <th>4</th>\n",
       "      <th>5</th>\n",
       "      <th>6</th>\n",
       "      <th>7</th>\n",
       "      <th>8</th>\n",
       "      <th>9</th>\n",
       "    </tr>\n",
       "  </thead>\n",
       "  <tbody>\n",
       "    <tr>\n",
       "      <th>0</th>\n",
       "      <td>0.99</td>\n",
       "      <td>44.0</td>\n",
       "      <td>55.0</td>\n",
       "      <td>51.0</td>\n",
       "      <td>175.0</td>\n",
       "      <td>73.0</td>\n",
       "      <td>18.0</td>\n",
       "      <td>974.0</td>\n",
       "      <td>522.0</td>\n",
       "      <td>686.0</td>\n",
       "      <td>1.0</td>\n",
       "    </tr>\n",
       "  </tbody>\n",
       "</table>\n",
       "</div>"
      ],
      "text/plain": [
       "   index     0     1     2      3     4     5      6      7      8    9\n",
       "0   0.99  44.0  55.0  51.0  175.0  73.0  18.0  974.0  522.0  686.0  1.0"
      ]
     },
     "execution_count": 32,
     "metadata": {},
     "output_type": "execute_result"
    }
   ],
   "source": [
    "all_maxs"
   ]
  },
  {
   "cell_type": "code",
   "execution_count": 33,
   "id": "e017f9f3-6174-42c4-8628-86c0084edf51",
   "metadata": {},
   "outputs": [
    {
     "data": {
      "text/html": [
       "<div>\n",
       "<style scoped>\n",
       "    .dataframe tbody tr th:only-of-type {\n",
       "        vertical-align: middle;\n",
       "    }\n",
       "\n",
       "    .dataframe tbody tr th {\n",
       "        vertical-align: top;\n",
       "    }\n",
       "\n",
       "    .dataframe thead th {\n",
       "        text-align: right;\n",
       "    }\n",
       "</style>\n",
       "<table border=\"1\" class=\"dataframe\">\n",
       "  <thead>\n",
       "    <tr style=\"text-align: right;\">\n",
       "      <th></th>\n",
       "      <th>index</th>\n",
       "      <th>0</th>\n",
       "      <th>1</th>\n",
       "      <th>2</th>\n",
       "      <th>3</th>\n",
       "      <th>4</th>\n",
       "      <th>5</th>\n",
       "      <th>6</th>\n",
       "      <th>7</th>\n",
       "      <th>8</th>\n",
       "      <th>9</th>\n",
       "    </tr>\n",
       "  </thead>\n",
       "  <tbody>\n",
       "    <tr>\n",
       "      <th>0</th>\n",
       "      <td>0.01</td>\n",
       "      <td>-54.0</td>\n",
       "      <td>-49.0</td>\n",
       "      <td>-63.0</td>\n",
       "      <td>-49.0</td>\n",
       "      <td>-129.0</td>\n",
       "      <td>-155.0</td>\n",
       "      <td>21.0</td>\n",
       "      <td>-68.0</td>\n",
       "      <td>-9.0</td>\n",
       "      <td>1.0</td>\n",
       "    </tr>\n",
       "    <tr>\n",
       "      <th>1</th>\n",
       "      <td>0.99</td>\n",
       "      <td>44.0</td>\n",
       "      <td>55.0</td>\n",
       "      <td>51.0</td>\n",
       "      <td>175.0</td>\n",
       "      <td>73.0</td>\n",
       "      <td>18.0</td>\n",
       "      <td>974.0</td>\n",
       "      <td>522.0</td>\n",
       "      <td>686.0</td>\n",
       "      <td>1.0</td>\n",
       "    </tr>\n",
       "  </tbody>\n",
       "</table>\n",
       "</div>"
      ],
      "text/plain": [
       "   index     0     1     2      3      4      5      6      7      8    9\n",
       "0   0.01 -54.0 -49.0 -63.0  -49.0 -129.0 -155.0   21.0  -68.0   -9.0  1.0\n",
       "1   0.99  44.0  55.0  51.0  175.0   73.0   18.0  974.0  522.0  686.0  1.0"
      ]
     },
     "execution_count": 33,
     "metadata": {},
     "output_type": "execute_result"
    }
   ],
   "source": [
    "min_max"
   ]
  },
  {
   "cell_type": "code",
   "execution_count": 37,
   "id": "7dceed91-bb0d-46c4-aa09-e5dbde86c5a5",
   "metadata": {},
   "outputs": [
    {
     "data": {
      "text/html": [
       "<div>\n",
       "<style scoped>\n",
       "    .dataframe tbody tr th:only-of-type {\n",
       "        vertical-align: middle;\n",
       "    }\n",
       "\n",
       "    .dataframe tbody tr th {\n",
       "        vertical-align: top;\n",
       "    }\n",
       "\n",
       "    .dataframe thead th {\n",
       "        text-align: right;\n",
       "    }\n",
       "</style>\n",
       "<table border=\"1\" class=\"dataframe\">\n",
       "  <thead>\n",
       "    <tr style=\"text-align: right;\">\n",
       "      <th></th>\n",
       "      <th>index</th>\n",
       "      <th>0</th>\n",
       "      <th>1</th>\n",
       "      <th>2</th>\n",
       "      <th>3</th>\n",
       "      <th>4</th>\n",
       "      <th>5</th>\n",
       "      <th>6</th>\n",
       "      <th>7</th>\n",
       "      <th>8</th>\n",
       "      <th>9</th>\n",
       "    </tr>\n",
       "  </thead>\n",
       "  <tbody>\n",
       "    <tr>\n",
       "      <th>0</th>\n",
       "      <td>0.01</td>\n",
       "      <td>-54.0</td>\n",
       "      <td>-49.0</td>\n",
       "      <td>-63.0</td>\n",
       "      <td>-49.0</td>\n",
       "      <td>-129.0</td>\n",
       "      <td>-155.0</td>\n",
       "      <td>21.0</td>\n",
       "      <td>-68.0</td>\n",
       "      <td>-9.0</td>\n",
       "      <td>1.0</td>\n",
       "    </tr>\n",
       "    <tr>\n",
       "      <th>1</th>\n",
       "      <td>0.99</td>\n",
       "      <td>44.0</td>\n",
       "      <td>55.0</td>\n",
       "      <td>51.0</td>\n",
       "      <td>175.0</td>\n",
       "      <td>73.0</td>\n",
       "      <td>18.0</td>\n",
       "      <td>974.0</td>\n",
       "      <td>522.0</td>\n",
       "      <td>686.0</td>\n",
       "      <td>1.0</td>\n",
       "    </tr>\n",
       "  </tbody>\n",
       "</table>\n",
       "</div>"
      ],
      "text/plain": [
       "   index     0     1     2      3      4      5      6      7      8    9\n",
       "0   0.01 -54.0 -49.0 -63.0  -49.0 -129.0 -155.0   21.0  -68.0   -9.0  1.0\n",
       "1   0.99  44.0  55.0  51.0  175.0   73.0   18.0  974.0  522.0  686.0  1.0"
      ]
     },
     "execution_count": 37,
     "metadata": {},
     "output_type": "execute_result"
    }
   ],
   "source": [
    "min_max"
   ]
  },
  {
   "cell_type": "code",
   "execution_count": null,
   "id": "b5f25991-224c-4d6d-a8f1-28f85e888992",
   "metadata": {},
   "outputs": [],
   "source": []
  }
 ],
 "metadata": {
  "kernelspec": {
   "display_name": "Python [conda env:.conda-deeplearning3]",
   "language": "python",
   "name": "conda-env-.conda-deeplearning3-py"
  },
  "language_info": {
   "codemirror_mode": {
    "name": "ipython",
    "version": 3
   },
   "file_extension": ".py",
   "mimetype": "text/x-python",
   "name": "python",
   "nbconvert_exporter": "python",
   "pygments_lexer": "ipython3",
   "version": "3.10.8"
  }
 },
 "nbformat": 4,
 "nbformat_minor": 5
}
