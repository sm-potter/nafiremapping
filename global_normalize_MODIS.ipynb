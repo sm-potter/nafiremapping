{
 "cells": [
  {
   "cell_type": "markdown",
   "id": "7ab7ed55-becc-4709-8600-cc65fead86ee",
   "metadata": {},
   "source": [
    "This script will make it so all images are normalized the same by taking the global min and max per band and applying it to each image"
   ]
  },
  {
   "cell_type": "code",
   "execution_count": 5,
   "id": "75aac32c-c9f5-40ee-9492-87f348991567",
   "metadata": {},
   "outputs": [],
   "source": [
    "import pandas as pd\n",
    "import numpy as np\n",
    "import os"
   ]
  },
  {
   "cell_type": "code",
   "execution_count": 6,
   "id": "129901f4-7d52-44aa-90b5-b351d29cf512",
   "metadata": {},
   "outputs": [],
   "source": [
    "#function to get files from storage bucket\n",
    "def get_files(bucket_path):\n",
    "\n",
    "  \"\"\"argument is the path to where the numpy\n",
    "  save files are located, return a list of filenames\n",
    "  \"\"\"\n",
    "  all = []\n",
    "\n",
    "  #list of files\n",
    "  files = os.listdir(bucket_path)\n",
    "\n",
    "  #get list of filenames we will use, notte I remove images that don't have a target due to clouds\n",
    "  file_names = []\n",
    "  for f in files:\n",
    "    if f.endswith('.npy'):\n",
    "\n",
    "\n",
    "      all.append(os.path.join(bucket_path, f))\n",
    "  return(all)\n",
    "\n",
    "#function to get min and max of each column\n",
    "def minMax(x):\n",
    "    return pd.Series(index=['min','max'],data=[x.min(),x.max()])\n"
   ]
  },
  {
   "cell_type": "code",
   "execution_count": 3,
   "id": "8dd2a372-28ec-4302-8c47-152516480499",
   "metadata": {},
   "outputs": [
    {
     "data": {
      "text/plain": [
       "()"
      ]
     },
     "execution_count": 3,
     "metadata": {},
     "output_type": "execute_result"
    }
   ],
   "source": [
    "#path to training, validation and testing\n",
    "train_files = pd.read_csv('/explore/nobackup/people/spotter5/cnn_mapping/nbac_training/l8_sent_collection2_wgs_0_128_training_files.csv')['Files'].tolist()\n",
    "val_files = pd.read_csv('/explore/nobackup/people/spotter5/cnn_mapping/nbac_training/l8_sent_collection2_wgs_0_128_validation_files.csv')['Files'].tolist()\n",
    "test_files = pd.read_csv('/explore/nobackup/people/spotter5/cnn_mapping/nbac_training/l8_sent_collection2_wgs_0_128_testing_files.csv')['Files'].tolist()\n",
    "\n",
    "final = []\n",
    "\n",
    "\n",
    "def get_min_max(pathways):\n",
    "    \n",
    "    \n",
    "    for f in pathways:\n",
    "\n",
    "        base = os.path.basename(f)\n",
    "\n",
    "        x = np.load(f)[:, :, :-1]\n",
    "        x = x.astype(float)\n",
    "        x[x == 0] = np.nan\n",
    "        x[x == -999] = np.nan\n",
    "\n",
    "        #convert to dataframe\n",
    "        in_shape = x.shape\n",
    "\n",
    "        #turn to dataframe to normalize\n",
    "        x = x.reshape(x.shape[0] * x.shape[1], x.shape[2])\n",
    "\n",
    "        x = pd.DataFrame(x)\n",
    "\n",
    "\n",
    "        min_max = x.apply(minMax)\n",
    "\n",
    "        final.append(min_max)\n",
    "        \n",
    "    return()\n",
    "\n",
    "get_min_max(train)\n",
    "get_min_max(test)\n",
    "get_min_max(val)\n",
    "\n"
   ]
  },
  {
   "cell_type": "code",
   "execution_count": 5,
   "id": "9ef8f958-8480-4171-8ee4-c48e785f1cb8",
   "metadata": {},
   "outputs": [
    {
     "ename": "NameError",
     "evalue": "name 'get_files' is not defined",
     "output_type": "error",
     "traceback": [
      "\u001b[0;31m---------------------------------------------------------------------------\u001b[0m",
      "\u001b[0;31mNameError\u001b[0m                                 Traceback (most recent call last)",
      "Cell \u001b[0;32mIn [5], line 2\u001b[0m\n\u001b[1;32m      1\u001b[0m \u001b[38;5;66;03m#path to training, validation and testing\u001b[39;00m\n\u001b[0;32m----> 2\u001b[0m train \u001b[38;5;241m=\u001b[39m get_files(\u001b[38;5;124m'\u001b[39m\u001b[38;5;124m/explore/nobackup/people/spotter5/cnn_mapping/nbac_training/l8_sent_collection2_0_training_data_512\u001b[39m\u001b[38;5;124m'\u001b[39m)\n\u001b[1;32m      3\u001b[0m test \u001b[38;5;241m=\u001b[39m get_files(\u001b[38;5;124m'\u001b[39m\u001b[38;5;124m/explore/nobackup/people/spotter5/cnn_mapping/nbac_training/l8_sent_collection2_0_testing_data_512\u001b[39m\u001b[38;5;124m'\u001b[39m)\n\u001b[1;32m      4\u001b[0m val \u001b[38;5;241m=\u001b[39m get_files(\u001b[38;5;124m'\u001b[39m\u001b[38;5;124m/explore/nobackup/people/spotter5/cnn_mapping/nbac_training/l8_sent_collection2_0_validation_data_512\u001b[39m\u001b[38;5;124m'\u001b[39m)\n",
      "\u001b[0;31mNameError\u001b[0m: name 'get_files' is not defined"
     ]
    }
   ],
   "source": [
    "#path to training, validation and testing\n",
    "train = get_files('/explore/nobackup/people/spotter5/cnn_mapping/nbac_training/l8_sent_collection2_0_training_data_512')\n",
    "test = get_files('/explore/nobackup/people/spotter5/cnn_mapping/nbac_training/l8_sent_collection2_0_testing_data_512')\n",
    "val = get_files('/explore/nobackup/people/spotter5/cnn_mapping/nbac_training/l8_sent_collection2_0_validation_data_512')\n",
    "# mtbs = get_files('/explore/nobackup/people/spotter5/cnn_mapping/nbac_training/mtbs_1985_c2_512_data')\n",
    "\n",
    "final = []\n",
    "def get_min_max(pathways):\n",
    "    \n",
    "    \n",
    "    for f in pathways:\n",
    "\n",
    "        base = os.path.basename(f)\n",
    "\n",
    "        x = np.load(f)\n",
    "        x = x.astype(float)\n",
    "        x[x == 0] = np.nan\n",
    "        x[x == -999] = np.nan\n",
    "\n",
    "        #convert to dataframe\n",
    "        in_shape = x.shape\n",
    "\n",
    "        #turn to dataframe to normalize\n",
    "        x = x.reshape(x.shape[0] * x.shape[1], x.shape[2])\n",
    "\n",
    "        x = pd.DataFrame(x)\n",
    "\n",
    "\n",
    "        min_max = x.apply(minMax)\n",
    "\n",
    "        final.append(min_max)\n",
    "        \n",
    "    return()\n",
    "\n",
    "get_min_max(train)\n",
    "get_min_max(test)\n",
    "get_min_max(val)\n",
    "# get_min_max(mtbs)"
   ]
  },
  {
   "cell_type": "code",
   "execution_count": 4,
   "id": "13e4ca96-0b72-4800-b47d-d685734a368c",
   "metadata": {},
   "outputs": [
    {
     "ename": "NameError",
     "evalue": "name 'final' is not defined",
     "output_type": "error",
     "traceback": [
      "\u001b[0;31m---------------------------------------------------------------------------\u001b[0m",
      "\u001b[0;31mNameError\u001b[0m                                 Traceback (most recent call last)",
      "Cell \u001b[0;32mIn [4], line 1\u001b[0m\n\u001b[0;32m----> 1\u001b[0m \u001b[38;5;28mlen\u001b[39m(final)\n",
      "\u001b[0;31mNameError\u001b[0m: name 'final' is not defined"
     ]
    }
   ],
   "source": [
    "'t'"
   ]
  },
  {
   "cell_type": "code",
   "execution_count": 63,
   "id": "a27f3d5b-1dc4-48f7-94da-43ae3cd572f0",
   "metadata": {},
   "outputs": [
    {
     "name": "stdout",
     "output_type": "stream",
     "text": [
      "           0        1        2       3       4       5       6       7       8\n",
      "min -32768.0 -20599.0 -20380.0 -1759.0 -1699.0 -1919.0 -1720.0 -1522.0 -1519.0\n",
      "max  32767.0  22431.0  20380.0  1735.0  1698.0  1650.0  1774.0  1555.0  1522.0\n"
     ]
    }
   ],
   "source": [
    "final2 = pd.concat(final).apply(minMax).reset_index()\n",
    "\n",
    "print(final2.head())\n",
    "\n",
    "#save min max\n",
    "final2.to_csv(\"/explore/nobackup/people/spotter5/cnn_mapping/nbac_training/l8_sent_collection2_0_global_min_max_wgs.csv\", index = False)"
   ]
  },
  {
   "cell_type": "code",
   "execution_count": null,
   "id": "410a2b6c-332f-4972-b28a-135601e3f839",
   "metadata": {},
   "outputs": [],
   "source": [
    "final2 = final2.reset_index(drop = True)"
   ]
  },
  {
   "cell_type": "markdown",
   "id": "000ece67-14d7-4e1e-b84b-c9428ef63180",
   "metadata": {},
   "source": [
    "Now get the min-max globally but use the 5 and 95% cutoffs"
   ]
  },
  {
   "cell_type": "code",
   "execution_count": 3,
   "id": "2cd494c1-4569-4f7e-b48a-3d01855109cd",
   "metadata": {},
   "outputs": [],
   "source": [
    "#function to get the 5 and 95% cutoffs\n",
    "#function to get min and max of each column\n",
    "def minMax(x):\n",
    "    return pd.Series(index=['min','max'],data=[x.percentile(5),x.percentile(95)])\n"
   ]
  },
  {
   "cell_type": "code",
   "execution_count": 7,
   "id": "4aedbfa4-adc6-479e-9c85-b090da6b0cc6",
   "metadata": {},
   "outputs": [],
   "source": [
    "#path to training, validation and testing\n",
    "train_files = pd.read_csv('/explore/nobackup/people/spotter5/cnn_mapping/nbac_training/nbac_modis_0_128_training_files.csv')['Files'].tolist()\n",
    "val_files = pd.read_csv('/explore/nobackup/people/spotter5/cnn_mapping/nbac_training/nbac_modis_0_128_validation_files.csv')['Files'].tolist()\n",
    "test_files = pd.read_csv('/explore/nobackup/people/spotter5/cnn_mapping/nbac_training/nbac_modis_0_128_testing_files.csv')['Files'].tolist()\n",
    "\n",
    "\n",
    "\n",
    "final = []\n",
    "\n",
    "\n",
    "def get_min_max(pathways):\n",
    "    \n",
    "    \n",
    "    for f in pathways:\n",
    "\n",
    "        base = os.path.basename(f)\n",
    "\n",
    "        x = np.load(f)\n",
    "        x = x.astype(float)\n",
    "        x[x == 0] = np.nan\n",
    "        x[x == -999] = np.nan\n",
    "\n",
    "        #convert to dataframe\n",
    "        in_shape = x.shape\n",
    "\n",
    "        #turn to dataframe to normalize\n",
    "        x = x.reshape(x.shape[0] * x.shape[1], x.shape[2])\n",
    "\n",
    "        # x = pd.DataFrame(x).dropna().sample(frac = 0.3)\n",
    "\n",
    "        x = pd.DataFrame(x).dropna()\n",
    "        # min_max = x.apply(minMax)\n",
    "\n",
    "        final.append(x)\n",
    "        \n",
    "    return()\n",
    "\n",
    "get_min_max(train_files)\n",
    "get_min_max(test_files)\n",
    "get_min_max(val_files)\n",
    "\n",
    "final4 = pd.concat(final).quantile([.01, .99])\n",
    "final4\n",
    "final4.reset_index().to_csv(\"/explore/nobackup/people/spotter5/cnn_mapping/nbac_training/modis_global_min_max_cutoff.csv\", index = False)\n",
    "\n"
   ]
  },
  {
   "cell_type": "code",
   "execution_count": 8,
   "id": "b7e4e6d3-6d8d-4796-a9fa-78261070ca62",
   "metadata": {},
   "outputs": [
    {
     "data": {
      "text/html": [
       "<div>\n",
       "<style scoped>\n",
       "    .dataframe tbody tr th:only-of-type {\n",
       "        vertical-align: middle;\n",
       "    }\n",
       "\n",
       "    .dataframe tbody tr th {\n",
       "        vertical-align: top;\n",
       "    }\n",
       "\n",
       "    .dataframe thead th {\n",
       "        text-align: right;\n",
       "    }\n",
       "</style>\n",
       "<table border=\"1\" class=\"dataframe\">\n",
       "  <thead>\n",
       "    <tr style=\"text-align: right;\">\n",
       "      <th></th>\n",
       "      <th>0</th>\n",
       "      <th>1</th>\n",
       "      <th>2</th>\n",
       "      <th>3</th>\n",
       "      <th>4</th>\n",
       "      <th>5</th>\n",
       "      <th>6</th>\n",
       "      <th>7</th>\n",
       "      <th>8</th>\n",
       "      <th>9</th>\n",
       "      <th>10</th>\n",
       "    </tr>\n",
       "  </thead>\n",
       "  <tbody>\n",
       "    <tr>\n",
       "      <th>0.01</th>\n",
       "      <td>-300.0</td>\n",
       "      <td>-156.0</td>\n",
       "      <td>-176.0</td>\n",
       "      <td>-166.0</td>\n",
       "      <td>-309.0</td>\n",
       "      <td>-820.0</td>\n",
       "      <td>-1112.0</td>\n",
       "      <td>15.0</td>\n",
       "      <td>-28.0</td>\n",
       "      <td>-17.0</td>\n",
       "      <td>1.0</td>\n",
       "    </tr>\n",
       "    <tr>\n",
       "      <th>0.99</th>\n",
       "      <td>198.0</td>\n",
       "      <td>1299.0</td>\n",
       "      <td>145.0</td>\n",
       "      <td>277.0</td>\n",
       "      <td>1153.0</td>\n",
       "      <td>362.0</td>\n",
       "      <td>20.0</td>\n",
       "      <td>801.0</td>\n",
       "      <td>364.0</td>\n",
       "      <td>518.0</td>\n",
       "      <td>1.0</td>\n",
       "    </tr>\n",
       "  </tbody>\n",
       "</table>\n",
       "</div>"
      ],
      "text/plain": [
       "         0       1      2      3       4      5       6      7      8      9    \n",
       "0.01 -300.0  -156.0 -176.0 -166.0  -309.0 -820.0 -1112.0   15.0  -28.0  -17.0  \\\n",
       "0.99  198.0  1299.0  145.0  277.0  1153.0  362.0    20.0  801.0  364.0  518.0   \n",
       "\n",
       "       10  \n",
       "0.01  1.0  \n",
       "0.99  1.0  "
      ]
     },
     "execution_count": 8,
     "metadata": {},
     "output_type": "execute_result"
    }
   ],
   "source": [
    "final4"
   ]
  },
  {
   "cell_type": "code",
   "execution_count": 11,
   "id": "019b73eb-1d8a-4355-947a-bc600a2fd217",
   "metadata": {},
   "outputs": [
    {
     "data": {
      "text/html": [
       "<div>\n",
       "<style scoped>\n",
       "    .dataframe tbody tr th:only-of-type {\n",
       "        vertical-align: middle;\n",
       "    }\n",
       "\n",
       "    .dataframe tbody tr th {\n",
       "        vertical-align: top;\n",
       "    }\n",
       "\n",
       "    .dataframe thead th {\n",
       "        text-align: right;\n",
       "    }\n",
       "</style>\n",
       "<table border=\"1\" class=\"dataframe\">\n",
       "  <thead>\n",
       "    <tr style=\"text-align: right;\">\n",
       "      <th></th>\n",
       "      <th>0</th>\n",
       "      <th>1</th>\n",
       "      <th>2</th>\n",
       "      <th>3</th>\n",
       "      <th>4</th>\n",
       "      <th>5</th>\n",
       "      <th>6</th>\n",
       "      <th>7</th>\n",
       "      <th>8</th>\n",
       "    </tr>\n",
       "  </thead>\n",
       "  <tbody>\n",
       "    <tr>\n",
       "      <th>0.1</th>\n",
       "      <td>-15.0</td>\n",
       "      <td>-12.0</td>\n",
       "      <td>-18.0</td>\n",
       "      <td>-20.0</td>\n",
       "      <td>-48.0</td>\n",
       "      <td>-78.0</td>\n",
       "      <td>-48.0</td>\n",
       "      <td>-56.0</td>\n",
       "      <td>-43.0</td>\n",
       "    </tr>\n",
       "    <tr>\n",
       "      <th>0.9</th>\n",
       "      <td>14.0</td>\n",
       "      <td>22.0</td>\n",
       "      <td>19.0</td>\n",
       "      <td>111.0</td>\n",
       "      <td>38.0</td>\n",
       "      <td>12.0</td>\n",
       "      <td>668.0</td>\n",
       "      <td>355.0</td>\n",
       "      <td>454.0</td>\n",
       "    </tr>\n",
       "  </tbody>\n",
       "</table>\n",
       "</div>"
      ],
      "text/plain": [
       "        0     1     2      3     4     5      6      7      8\n",
       "0.1 -15.0 -12.0 -18.0  -20.0 -48.0 -78.0  -48.0  -56.0  -43.0\n",
       "0.9  14.0  22.0  19.0  111.0  38.0  12.0  668.0  355.0  454.0"
      ]
     },
     "execution_count": 11,
     "metadata": {},
     "output_type": "execute_result"
    }
   ],
   "source": [
    "# final2 = pd.concat(final).quantile([.01, .99])\n",
    "# final2.head()\n",
    "# final2.to_csv(\"/explore/nobackup/people/spotter5/cnn_mapping/nbac_training/l8_sent_collection2_0_global_min_max_cutoff.csv\", index = False)"
   ]
  },
  {
   "cell_type": "code",
   "execution_count": 11,
   "id": "9e123308-0a15-46d6-b653-4d9c0c619339",
   "metadata": {},
   "outputs": [
    {
     "data": {
      "text/html": [
       "<div>\n",
       "<style scoped>\n",
       "    .dataframe tbody tr th:only-of-type {\n",
       "        vertical-align: middle;\n",
       "    }\n",
       "\n",
       "    .dataframe tbody tr th {\n",
       "        vertical-align: top;\n",
       "    }\n",
       "\n",
       "    .dataframe thead th {\n",
       "        text-align: right;\n",
       "    }\n",
       "</style>\n",
       "<table border=\"1\" class=\"dataframe\">\n",
       "  <thead>\n",
       "    <tr style=\"text-align: right;\">\n",
       "      <th></th>\n",
       "      <th>0</th>\n",
       "      <th>1</th>\n",
       "      <th>2</th>\n",
       "      <th>3</th>\n",
       "      <th>4</th>\n",
       "      <th>5</th>\n",
       "      <th>6</th>\n",
       "      <th>7</th>\n",
       "      <th>8</th>\n",
       "    </tr>\n",
       "  </thead>\n",
       "  <tbody>\n",
       "    <tr>\n",
       "      <th>0.01</th>\n",
       "      <td>-62.0</td>\n",
       "      <td>-58.0</td>\n",
       "      <td>-61.0</td>\n",
       "      <td>-93.0</td>\n",
       "      <td>-116.0</td>\n",
       "      <td>-125.0</td>\n",
       "      <td>-238.0</td>\n",
       "      <td>-238.0</td>\n",
       "      <td>-212.0</td>\n",
       "    </tr>\n",
       "    <tr>\n",
       "      <th>0.99</th>\n",
       "      <td>49.0</td>\n",
       "      <td>51.0</td>\n",
       "      <td>51.0</td>\n",
       "      <td>159.0</td>\n",
       "      <td>91.0</td>\n",
       "      <td>54.0</td>\n",
       "      <td>881.0</td>\n",
       "      <td>527.0</td>\n",
       "      <td>610.0</td>\n",
       "    </tr>\n",
       "  </tbody>\n",
       "</table>\n",
       "</div>"
      ],
      "text/plain": [
       "         0     1     2      3      4      5      6      7      8\n",
       "0.01 -62.0 -58.0 -61.0  -93.0 -116.0 -125.0 -238.0 -238.0 -212.0\n",
       "0.99  49.0  51.0  51.0  159.0   91.0   54.0  881.0  527.0  610.0"
      ]
     },
     "execution_count": 11,
     "metadata": {},
     "output_type": "execute_result"
    }
   ],
   "source": [
    "# final3 = pd.concat(final).quantile([.05, .95])\n",
    "# final3.head()\n",
    "\n",
    "final4 = pd.concat(final).quantile([.01, .99])\n",
    "final4\n",
    "# final4.reset_index().to_csv(\"/explore/nobackup/people/spotter5/cnn_mapping/nbac_training/l8_sent_collection2_0_512_global_min_max_cutoff.csv\", index = False)"
   ]
  },
  {
   "cell_type": "code",
   "execution_count": 12,
   "id": "edcf90f9-e59c-4faa-80ae-ee17712aa552",
   "metadata": {},
   "outputs": [],
   "source": [
    "final4.reset_index().to_csv(\"/explore/nobackup/people/spotter5/cnn_mapping/nbac_training/l8_sent_collection2_0_512_global_min_max_cutoff.csv\", index = False)"
   ]
  },
  {
   "cell_type": "code",
   "execution_count": 8,
   "id": "9bd63071-88c7-4aca-8333-ce652bc2edda",
   "metadata": {},
   "outputs": [],
   "source": [
    "final5 = pd.read_csv(\"/explore/nobackup/people/spotter5/cnn_mapping/nbac_training/l8_sent_collection2_0_global_min_max_cutoff.csv\")"
   ]
  },
  {
   "cell_type": "code",
   "execution_count": 6,
   "id": "29ff9448-2ea6-4279-b96f-42b5abdc4454",
   "metadata": {},
   "outputs": [
    {
     "data": {
      "text/html": [
       "<div>\n",
       "<style scoped>\n",
       "    .dataframe tbody tr th:only-of-type {\n",
       "        vertical-align: middle;\n",
       "    }\n",
       "\n",
       "    .dataframe tbody tr th {\n",
       "        vertical-align: top;\n",
       "    }\n",
       "\n",
       "    .dataframe thead th {\n",
       "        text-align: right;\n",
       "    }\n",
       "</style>\n",
       "<table border=\"1\" class=\"dataframe\">\n",
       "  <thead>\n",
       "    <tr style=\"text-align: right;\">\n",
       "      <th></th>\n",
       "      <th>0</th>\n",
       "      <th>1</th>\n",
       "      <th>2</th>\n",
       "      <th>3</th>\n",
       "      <th>4</th>\n",
       "      <th>5</th>\n",
       "      <th>6</th>\n",
       "      <th>7</th>\n",
       "      <th>8</th>\n",
       "    </tr>\n",
       "  </thead>\n",
       "  <tbody>\n",
       "    <tr>\n",
       "      <th>min</th>\n",
       "      <td>-65.0</td>\n",
       "      <td>-93.0</td>\n",
       "      <td>-121.0</td>\n",
       "      <td>-93.0</td>\n",
       "      <td>-215.0</td>\n",
       "      <td>-207.0</td>\n",
       "      <td>-436.0</td>\n",
       "      <td>-343.0</td>\n",
       "      <td>-458.0</td>\n",
       "    </tr>\n",
       "    <tr>\n",
       "      <th>max</th>\n",
       "      <td>48.0</td>\n",
       "      <td>64.0</td>\n",
       "      <td>59.0</td>\n",
       "      <td>219.0</td>\n",
       "      <td>133.0</td>\n",
       "      <td>89.0</td>\n",
       "      <td>1110.0</td>\n",
       "      <td>492.0</td>\n",
       "      <td>852.0</td>\n",
       "    </tr>\n",
       "  </tbody>\n",
       "</table>\n",
       "</div>"
      ],
      "text/plain": [
       "        0     1      2      3      4      5       6      7      8\n",
       "min -65.0 -93.0 -121.0  -93.0 -215.0 -207.0  -436.0 -343.0 -458.0\n",
       "max  48.0  64.0   59.0  219.0  133.0   89.0  1110.0  492.0  852.0"
      ]
     },
     "execution_count": 6,
     "metadata": {},
     "output_type": "execute_result"
    }
   ],
   "source": [
    "final[0]"
   ]
  },
  {
   "cell_type": "code",
   "execution_count": 7,
   "id": "ca1b41c4-5ece-40c2-b415-542d660d5f57",
   "metadata": {},
   "outputs": [
    {
     "data": {
      "text/html": [
       "<div>\n",
       "<style scoped>\n",
       "    .dataframe tbody tr th:only-of-type {\n",
       "        vertical-align: middle;\n",
       "    }\n",
       "\n",
       "    .dataframe tbody tr th {\n",
       "        vertical-align: top;\n",
       "    }\n",
       "\n",
       "    .dataframe thead th {\n",
       "        text-align: right;\n",
       "    }\n",
       "</style>\n",
       "<table border=\"1\" class=\"dataframe\">\n",
       "  <thead>\n",
       "    <tr style=\"text-align: right;\">\n",
       "      <th></th>\n",
       "      <th>0</th>\n",
       "      <th>1</th>\n",
       "      <th>2</th>\n",
       "      <th>3</th>\n",
       "      <th>4</th>\n",
       "      <th>5</th>\n",
       "      <th>6</th>\n",
       "      <th>7</th>\n",
       "      <th>8</th>\n",
       "    </tr>\n",
       "  </thead>\n",
       "  <tbody>\n",
       "    <tr>\n",
       "      <th>0.01</th>\n",
       "      <td>-63.0</td>\n",
       "      <td>-58.0</td>\n",
       "      <td>-61.0</td>\n",
       "      <td>-89.0</td>\n",
       "      <td>-117.0</td>\n",
       "      <td>-134.0</td>\n",
       "      <td>-198.0</td>\n",
       "      <td>-243.0</td>\n",
       "      <td>-181.0</td>\n",
       "    </tr>\n",
       "    <tr>\n",
       "      <th>0.99</th>\n",
       "      <td>64.0</td>\n",
       "      <td>67.0</td>\n",
       "      <td>64.0</td>\n",
       "      <td>185.0</td>\n",
       "      <td>101.0</td>\n",
       "      <td>49.0</td>\n",
       "      <td>928.0</td>\n",
       "      <td>538.0</td>\n",
       "      <td>643.0</td>\n",
       "    </tr>\n",
       "  </tbody>\n",
       "</table>\n",
       "</div>"
      ],
      "text/plain": [
       "         0     1     2      3      4      5      6      7      8\n",
       "0.01 -63.0 -58.0 -61.0  -89.0 -117.0 -134.0 -198.0 -243.0 -181.0\n",
       "0.99  64.0  67.0  64.0  185.0  101.0   49.0  928.0  538.0  643.0"
      ]
     },
     "execution_count": 7,
     "metadata": {},
     "output_type": "execute_result"
    }
   ],
   "source": [
    "\n",
    "final4 = pd.concat(final).quantile([.01, .99])\n",
    "final4.head()\n",
    "final4.reset_index().to_csv(\"/explore/nobackup/people/spotter5/cnn_mapping/nbac_training/l8_sent_collection2_0_global_min_max_cutoff_ak_ca.csv\", index = False)"
   ]
  },
  {
   "cell_type": "code",
   "execution_count": 10,
   "id": "c2359a78-d970-4085-bcd2-69345113f995",
   "metadata": {},
   "outputs": [],
   "source": [
    "final4.reset_index().to_csv(\"/explore/nobackup/people/spotter5/cnn_mapping/nbac_training/l8_sent_collection2_0_global_min_max_cutoff_ak_ca.csv\", index = False)"
   ]
  },
  {
   "cell_type": "code",
   "execution_count": 19,
   "id": "8f9d02c0-5d71-4f8f-8e80-325461699cc5",
   "metadata": {},
   "outputs": [
    {
     "data": {
      "text/html": [
       "<div>\n",
       "<style scoped>\n",
       "    .dataframe tbody tr th:only-of-type {\n",
       "        vertical-align: middle;\n",
       "    }\n",
       "\n",
       "    .dataframe tbody tr th {\n",
       "        vertical-align: top;\n",
       "    }\n",
       "\n",
       "    .dataframe thead th {\n",
       "        text-align: right;\n",
       "    }\n",
       "</style>\n",
       "<table border=\"1\" class=\"dataframe\">\n",
       "  <thead>\n",
       "    <tr style=\"text-align: right;\">\n",
       "      <th></th>\n",
       "      <th>index</th>\n",
       "      <th>0</th>\n",
       "      <th>1</th>\n",
       "      <th>2</th>\n",
       "      <th>3</th>\n",
       "      <th>4</th>\n",
       "      <th>5</th>\n",
       "      <th>6</th>\n",
       "      <th>7</th>\n",
       "      <th>8</th>\n",
       "    </tr>\n",
       "  </thead>\n",
       "  <tbody>\n",
       "    <tr>\n",
       "      <th>0</th>\n",
       "      <td>0.01</td>\n",
       "      <td>-58.0</td>\n",
       "      <td>-54.0</td>\n",
       "      <td>-58.0</td>\n",
       "      <td>-83.0</td>\n",
       "      <td>-117.0</td>\n",
       "      <td>-134.0</td>\n",
       "      <td>-189.0</td>\n",
       "      <td>-207.0</td>\n",
       "      <td>-170.0</td>\n",
       "    </tr>\n",
       "    <tr>\n",
       "      <th>1</th>\n",
       "      <td>0.99</td>\n",
       "      <td>53.0</td>\n",
       "      <td>58.0</td>\n",
       "      <td>56.0</td>\n",
       "      <td>179.0</td>\n",
       "      <td>92.0</td>\n",
       "      <td>46.0</td>\n",
       "      <td>940.0</td>\n",
       "      <td>539.0</td>\n",
       "      <td>652.0</td>\n",
       "    </tr>\n",
       "  </tbody>\n",
       "</table>\n",
       "</div>"
      ],
      "text/plain": [
       "   index     0     1     2      3      4      5      6      7      8\n",
       "0   0.01 -58.0 -54.0 -58.0  -83.0 -117.0 -134.0 -189.0 -207.0 -170.0\n",
       "1   0.99  53.0  58.0  56.0  179.0   92.0   46.0  940.0  539.0  652.0"
      ]
     },
     "execution_count": 19,
     "metadata": {},
     "output_type": "execute_result"
    }
   ],
   "source": [
    "t = pd.read_csv(\"/explore/nobackup/people/spotter5/cnn_mapping/nbac_training/l8_sent_collection2_0_global_min_max_cutoff.csv\")\n",
    "\n",
    "t.head()"
   ]
  },
  {
   "cell_type": "code",
   "execution_count": 20,
   "id": "2af828a2-6484-4ac1-9056-14f258769dc2",
   "metadata": {},
   "outputs": [
    {
     "data": {
      "text/html": [
       "<div>\n",
       "<style scoped>\n",
       "    .dataframe tbody tr th:only-of-type {\n",
       "        vertical-align: middle;\n",
       "    }\n",
       "\n",
       "    .dataframe tbody tr th {\n",
       "        vertical-align: top;\n",
       "    }\n",
       "\n",
       "    .dataframe thead th {\n",
       "        text-align: right;\n",
       "    }\n",
       "</style>\n",
       "<table border=\"1\" class=\"dataframe\">\n",
       "  <thead>\n",
       "    <tr style=\"text-align: right;\">\n",
       "      <th></th>\n",
       "      <th>0</th>\n",
       "    </tr>\n",
       "  </thead>\n",
       "  <tbody>\n",
       "    <tr>\n",
       "      <th>0</th>\n",
       "      <td>-58.0</td>\n",
       "    </tr>\n",
       "    <tr>\n",
       "      <th>1</th>\n",
       "      <td>53.0</td>\n",
       "    </tr>\n",
       "  </tbody>\n",
       "</table>\n",
       "</div>"
      ],
      "text/plain": [
       "      0\n",
       "0 -58.0\n",
       "1  53.0"
      ]
     },
     "execution_count": 20,
     "metadata": {},
     "output_type": "execute_result"
    }
   ],
   "source": [
    "t[['0']]"
   ]
  },
  {
   "cell_type": "markdown",
   "id": "aa0de7cb-4569-4429-8b95-5d088ff57d43",
   "metadata": {},
   "source": [
    "Global standardize"
   ]
  },
  {
   "cell_type": "code",
   "execution_count": 4,
   "id": "c5911976-3137-43c4-8f45-db5e562ef5ff",
   "metadata": {},
   "outputs": [
    {
     "data": {
      "text/plain": [
       "()"
      ]
     },
     "execution_count": 4,
     "metadata": {},
     "output_type": "execute_result"
    }
   ],
   "source": [
    "#path to training, validation and testing\n",
    "train = get_files('/explore/nobackup/people/spotter5/cnn_mapping/nbac_training/l8_sent_collection2_0_training_data_128')\n",
    "test = get_files('/explore/nobackup/people/spotter5/cnn_mapping/nbac_training/l8_sent_collection2_0_testing_data_128')\n",
    "val = get_files('/explore/nobackup/people/spotter5/cnn_mapping/nbac_training/l8_sent_collection2_0_validation_data_128')\n",
    "\n",
    "final = []\n",
    "\n",
    "\n",
    "def get_min_max(pathways):\n",
    "    \n",
    "    \n",
    "    for f in pathways:\n",
    "\n",
    "        base = os.path.basename(f)\n",
    "\n",
    "        x = np.load(f)\n",
    "        x = x.astype(float)\n",
    "        x[x == 0] = np.nan\n",
    "        x[x == -999] = np.nan\n",
    "\n",
    "        #convert to dataframe\n",
    "        in_shape = x.shape\n",
    "\n",
    "        #turn to dataframe to normalize\n",
    "        x = x.reshape(x.shape[0] * x.shape[1], x.shape[2])\n",
    "\n",
    "        x = pd.DataFrame(x)\n",
    "\n",
    "\n",
    "        # min_max = x.apply(minMax)\n",
    "\n",
    "        final.append(x)\n",
    "        \n",
    "    return()\n",
    "\n",
    "get_min_max(train)\n",
    "get_min_max(test)\n",
    "get_min_max(val)"
   ]
  },
  {
   "cell_type": "code",
   "execution_count": 6,
   "id": "b46e7a07-e6f1-40a7-b515-c4a5179aa6f0",
   "metadata": {},
   "outputs": [],
   "source": [
    "final2 = pd.concat(final)"
   ]
  },
  {
   "cell_type": "code",
   "execution_count": 7,
   "id": "b9027dac-0d5f-4f1e-aa00-597a9e60a4b0",
   "metadata": {},
   "outputs": [
    {
     "data": {
      "text/plain": [
       "(1398226944, 9)"
      ]
     },
     "execution_count": 7,
     "metadata": {},
     "output_type": "execute_result"
    }
   ],
   "source": [
    "final2.shape"
   ]
  },
  {
   "cell_type": "code",
   "execution_count": 15,
   "id": "139f8477-56f6-4aa4-a693-f7eec8537644",
   "metadata": {},
   "outputs": [],
   "source": [
    "def mean_std(x):\n",
    "    return pd.Series(index=['mean', 'std'],data=[x.mean(), x.std()])"
   ]
  },
  {
   "cell_type": "code",
   "execution_count": 9,
   "id": "8a74a31d-5b7c-47c7-8e45-a2aba5e067f9",
   "metadata": {},
   "outputs": [
    {
     "data": {
      "text/plain": [
       "0    802.228794\n",
       "1     44.233915\n",
       "2    100.134408\n",
       "3     56.333927\n",
       "4     40.411012\n",
       "dtype: float64"
      ]
     },
     "execution_count": 9,
     "metadata": {},
     "output_type": "execute_result"
    }
   ],
   "source": [
    "final3 = final2.std()\n",
    "final3.head()"
   ]
  },
  {
   "cell_type": "code",
   "execution_count": 16,
   "id": "9052934e-b1e4-4f83-8de0-2a405d669944",
   "metadata": {},
   "outputs": [
    {
     "data": {
      "text/html": [
       "<div>\n",
       "<style scoped>\n",
       "    .dataframe tbody tr th:only-of-type {\n",
       "        vertical-align: middle;\n",
       "    }\n",
       "\n",
       "    .dataframe tbody tr th {\n",
       "        vertical-align: top;\n",
       "    }\n",
       "\n",
       "    .dataframe thead th {\n",
       "        text-align: right;\n",
       "    }\n",
       "</style>\n",
       "<table border=\"1\" class=\"dataframe\">\n",
       "  <thead>\n",
       "    <tr style=\"text-align: right;\">\n",
       "      <th></th>\n",
       "      <th>0</th>\n",
       "      <th>1</th>\n",
       "      <th>2</th>\n",
       "      <th>3</th>\n",
       "      <th>4</th>\n",
       "      <th>5</th>\n",
       "      <th>6</th>\n",
       "      <th>7</th>\n",
       "      <th>8</th>\n",
       "    </tr>\n",
       "  </thead>\n",
       "  <tbody>\n",
       "    <tr>\n",
       "      <th>mean</th>\n",
       "      <td>15.777139</td>\n",
       "      <td>3.516196</td>\n",
       "      <td>0.439064</td>\n",
       "      <td>36.085875</td>\n",
       "      <td>-3.770175</td>\n",
       "      <td>-24.016114</td>\n",
       "      <td>231.480455</td>\n",
       "      <td>106.263485</td>\n",
       "      <td>146.140186</td>\n",
       "    </tr>\n",
       "    <tr>\n",
       "      <th>std</th>\n",
       "      <td>802.228794</td>\n",
       "      <td>44.233915</td>\n",
       "      <td>100.134408</td>\n",
       "      <td>56.333927</td>\n",
       "      <td>40.411012</td>\n",
       "      <td>38.783437</td>\n",
       "      <td>286.581142</td>\n",
       "      <td>166.036829</td>\n",
       "      <td>200.408613</td>\n",
       "    </tr>\n",
       "  </tbody>\n",
       "</table>\n",
       "</div>"
      ],
      "text/plain": [
       "               0          1           2          3          4          5  \\\n",
       "mean   15.777139   3.516196    0.439064  36.085875  -3.770175 -24.016114   \n",
       "std   802.228794  44.233915  100.134408  56.333927  40.411012  38.783437   \n",
       "\n",
       "               6           7           8  \n",
       "mean  231.480455  106.263485  146.140186  \n",
       "std   286.581142  166.036829  200.408613  "
      ]
     },
     "execution_count": 16,
     "metadata": {},
     "output_type": "execute_result"
    }
   ],
   "source": [
    "# final4 = final2.quantile([.01, .99])\n",
    "# final4.head()\n",
    "final4 = final2.apply(mean_std)\n",
    "final4.head()"
   ]
  },
  {
   "cell_type": "code",
   "execution_count": 17,
   "id": "d247a62a-b3d2-4336-8654-b765d087a642",
   "metadata": {},
   "outputs": [],
   "source": [
    "final4.reset_index().to_csv(\"/explore/nobackup/people/spotter5/cnn_mapping/nbac_training/l8_sent_collection2_0_global_stand.csv\", index = False)"
   ]
  },
  {
   "cell_type": "code",
   "execution_count": 13,
   "id": "75547718-b557-405c-ae18-69ce240dd921",
   "metadata": {},
   "outputs": [
    {
     "data": {
      "text/html": [
       "<div>\n",
       "<style scoped>\n",
       "    .dataframe tbody tr th:only-of-type {\n",
       "        vertical-align: middle;\n",
       "    }\n",
       "\n",
       "    .dataframe tbody tr th {\n",
       "        vertical-align: top;\n",
       "    }\n",
       "\n",
       "    .dataframe thead th {\n",
       "        text-align: right;\n",
       "    }\n",
       "</style>\n",
       "<table border=\"1\" class=\"dataframe\">\n",
       "  <thead>\n",
       "    <tr style=\"text-align: right;\">\n",
       "      <th></th>\n",
       "      <th>index</th>\n",
       "      <th>0</th>\n",
       "      <th>1</th>\n",
       "      <th>2</th>\n",
       "      <th>3</th>\n",
       "      <th>4</th>\n",
       "      <th>5</th>\n",
       "      <th>6</th>\n",
       "      <th>7</th>\n",
       "      <th>8</th>\n",
       "    </tr>\n",
       "  </thead>\n",
       "  <tbody>\n",
       "    <tr>\n",
       "      <th>0</th>\n",
       "      <td>min</td>\n",
       "      <td>-58.000000</td>\n",
       "      <td>-54.000000</td>\n",
       "      <td>-58.000000</td>\n",
       "      <td>-83.000000</td>\n",
       "      <td>-117.000000</td>\n",
       "      <td>-134.000000</td>\n",
       "      <td>-189.000000</td>\n",
       "      <td>-207.000000</td>\n",
       "      <td>-170.000000</td>\n",
       "    </tr>\n",
       "    <tr>\n",
       "      <th>1</th>\n",
       "      <td>max</td>\n",
       "      <td>53.000000</td>\n",
       "      <td>58.000000</td>\n",
       "      <td>56.000000</td>\n",
       "      <td>179.000000</td>\n",
       "      <td>92.000000</td>\n",
       "      <td>46.000000</td>\n",
       "      <td>940.000000</td>\n",
       "      <td>539.000000</td>\n",
       "      <td>652.000000</td>\n",
       "    </tr>\n",
       "    <tr>\n",
       "      <th>2</th>\n",
       "      <td>std</td>\n",
       "      <td>802.228794</td>\n",
       "      <td>44.233915</td>\n",
       "      <td>100.134408</td>\n",
       "      <td>56.333927</td>\n",
       "      <td>40.411012</td>\n",
       "      <td>38.783437</td>\n",
       "      <td>286.581142</td>\n",
       "      <td>166.036829</td>\n",
       "      <td>200.408613</td>\n",
       "    </tr>\n",
       "  </tbody>\n",
       "</table>\n",
       "</div>"
      ],
      "text/plain": [
       "  index           0          1           2           3           4  \\\n",
       "0   min  -58.000000 -54.000000  -58.000000  -83.000000 -117.000000   \n",
       "1   max   53.000000  58.000000   56.000000  179.000000   92.000000   \n",
       "2   std  802.228794  44.233915  100.134408   56.333927   40.411012   \n",
       "\n",
       "            5           6           7           8  \n",
       "0 -134.000000 -189.000000 -207.000000 -170.000000  \n",
       "1   46.000000  940.000000  539.000000  652.000000  \n",
       "2   38.783437  286.581142  166.036829  200.408613  "
      ]
     },
     "execution_count": 13,
     "metadata": {},
     "output_type": "execute_result"
    }
   ],
   "source": [
    "final4.reset_index()"
   ]
  },
  {
   "cell_type": "code",
   "execution_count": null,
   "id": "98c4755f-ab29-4089-ab65-74e7b70b0da1",
   "metadata": {},
   "outputs": [],
   "source": [
    "Now lets get a new test dataset, and try to transform it to have the same mean and std as the final 4 dataset"
   ]
  },
  {
   "cell_type": "code",
   "execution_count": 23,
   "id": "d4cb2bc4-7562-4cf7-9855-0c15dfe29f97",
   "metadata": {},
   "outputs": [
    {
     "name": "stdout",
     "output_type": "stream",
     "text": [
      "3.7094473981982814 6.8\n",
      "802.228794\n",
      "15.777139000000034\n"
     ]
    }
   ],
   "source": [
    "newd = [0, 6, 8, 10, 10]\n",
    "\n",
    "s1 = \t802.228794\n",
    "m1 = 15.777139\n",
    "\n",
    "s2 = np.std(newd)\n",
    "m2 = np.mean(newd)\n",
    "\n",
    "print(s2, m2)\n",
    "\n",
    "#new data should have a mean of x and a std of x\n",
    "def transform_mean_std(newv, s1, s2, m1, m2):\n",
    "    \n",
    "    #takes new value and transforms it \n",
    "    return(m1 + (newv - m2) * (s1/s2))\n",
    "           \n",
    "newd_trans = [transform_mean_std(i, s1, s2, m1, m2) for i in newd]\n",
    "           \n",
    "print(np.std(newd_trans))\n",
    "print(np.mean(newd_trans))\n"
   ]
  },
  {
   "cell_type": "code",
   "execution_count": 26,
   "id": "49b85723-6f4c-4173-bf06-1c67acbf41ff",
   "metadata": {},
   "outputs": [
    {
     "data": {
      "text/html": [
       "<div>\n",
       "<style scoped>\n",
       "    .dataframe tbody tr th:only-of-type {\n",
       "        vertical-align: middle;\n",
       "    }\n",
       "\n",
       "    .dataframe tbody tr th {\n",
       "        vertical-align: top;\n",
       "    }\n",
       "\n",
       "    .dataframe thead th {\n",
       "        text-align: right;\n",
       "    }\n",
       "</style>\n",
       "<table border=\"1\" class=\"dataframe\">\n",
       "  <thead>\n",
       "    <tr style=\"text-align: right;\">\n",
       "      <th></th>\n",
       "      <th>index</th>\n",
       "      <th>6</th>\n",
       "      <th>7</th>\n",
       "      <th>8</th>\n",
       "    </tr>\n",
       "  </thead>\n",
       "  <tbody>\n",
       "    <tr>\n",
       "      <th>0</th>\n",
       "      <td>mean</td>\n",
       "      <td>231.480455</td>\n",
       "      <td>106.263485</td>\n",
       "      <td>146.140186</td>\n",
       "    </tr>\n",
       "    <tr>\n",
       "      <th>1</th>\n",
       "      <td>std</td>\n",
       "      <td>286.581142</td>\n",
       "      <td>166.036829</td>\n",
       "      <td>200.408613</td>\n",
       "    </tr>\n",
       "  </tbody>\n",
       "</table>\n",
       "</div>"
      ],
      "text/plain": [
       "  index           6           7           8\n",
       "0  mean  231.480455  106.263485  146.140186\n",
       "1   std  286.581142  166.036829  200.408613"
      ]
     },
     "execution_count": 26,
     "metadata": {},
     "output_type": "execute_result"
    }
   ],
   "source": [
    "df = pd.read_csv(\"/explore/nobackup/people/spotter5/cnn_mapping/nbac_training/l8_sent_collection2_0_global_stand.csv\")\n",
    "df = df[['index', '6', '7', '8']]\n",
    "df"
   ]
  },
  {
   "cell_type": "code",
   "execution_count": 29,
   "id": "78375d77-64bf-4ace-81c8-097c5da6fb9e",
   "metadata": {},
   "outputs": [
    {
     "data": {
      "text/html": [
       "<div>\n",
       "<style scoped>\n",
       "    .dataframe tbody tr th:only-of-type {\n",
       "        vertical-align: middle;\n",
       "    }\n",
       "\n",
       "    .dataframe tbody tr th {\n",
       "        vertical-align: top;\n",
       "    }\n",
       "\n",
       "    .dataframe thead th {\n",
       "        text-align: right;\n",
       "    }\n",
       "</style>\n",
       "<table border=\"1\" class=\"dataframe\">\n",
       "  <thead>\n",
       "    <tr style=\"text-align: right;\">\n",
       "      <th></th>\n",
       "      <th>index</th>\n",
       "      <th>6</th>\n",
       "      <th>7</th>\n",
       "      <th>8</th>\n",
       "    </tr>\n",
       "  </thead>\n",
       "  <tbody>\n",
       "    <tr>\n",
       "      <th>0</th>\n",
       "      <td>mean</td>\n",
       "      <td>231.480455</td>\n",
       "      <td>106.263485</td>\n",
       "      <td>146.140186</td>\n",
       "    </tr>\n",
       "    <tr>\n",
       "      <th>1</th>\n",
       "      <td>std</td>\n",
       "      <td>286.581142</td>\n",
       "      <td>166.036829</td>\n",
       "      <td>200.408613</td>\n",
       "    </tr>\n",
       "  </tbody>\n",
       "</table>\n",
       "</div>"
      ],
      "text/plain": [
       "  index           6           7           8\n",
       "0  mean  231.480455  106.263485  146.140186\n",
       "1   std  286.581142  166.036829  200.408613"
      ]
     },
     "execution_count": 29,
     "metadata": {},
     "output_type": "execute_result"
    }
   ],
   "source": [
    "#function to change the bands so that they are all standardized the same way\n",
    "#new data should have a mean of x and a std of x\n",
    "# def transform_mean_std(train_data, new_data):\n",
    "    \n",
    "# \t\"\"\"newv is the new value to change, s1 is the standard deviation from the input dataframe, newv is the new value to change,\n",
    "# \ts2 is the standard deviation in the new column of interest, m1 is the mean from the in frame and m2 is the mean value in the new\n",
    "# \tcolumn of interest\"\"\"\n",
    "\t\n",
    "#     #takes new value and transforms it \n",
    "#     return(m1 + (newv - m2) * (s1/s2))\n",
    "    \n",
    "train_data = pd.read_csv(\"/explore/nobackup/people/spotter5/cnn_mapping/nbac_training/l8_sent_collection2_0_global_stand.csv\")\n",
    "train_data = train_data[['index', '6', '7', '8']]\n",
    "train_data"
   ]
  },
  {
   "cell_type": "code",
   "execution_count": 44,
   "id": "637ef7e0-91cd-47db-b29e-f8de23dafb52",
   "metadata": {},
   "outputs": [],
   "source": [
    "#new image to test\n",
    "new_data = final[0]\n",
    "new_data = new_data[[6, 7, 8]]\n",
    "# new_data\n",
    "\n",
    "m1 = train_data.iloc[0]['6']\n",
    "s1 = train_data.iloc[1]['6']\n",
    "\n",
    "m2 = new_data[6].mean()\n",
    "s2 = new_data[6].std()\n",
    "\n",
    "#apply to column\n",
    "def transform_mean_std(train_data, new_data, cols = [6,7,8]):\n",
    "    \n",
    "\t\"\"\"newv is the new value to change, s1 is the standard deviation from the input dataframe, newv is the new value to change,\n",
    "\ts2 is the standard deviation in the new column of interest, m1 is the mean from the in frame and m2 is the mean value in the new\n",
    "\tcolumn of interest\"\"\"\n",
    "    \n",
    "    for col in cols:\n",
    "        \n",
    "        m1 = train_data.iloc[0][str(col)]\n",
    "        s1 = train_data.iloc[1][str(col)]\n",
    "\n",
    "        m2 = new_data[col].mean()\n",
    "        s2 = new_data[col].std()\n",
    "        new_data[col] = new_data[col].map(lambda x: m1 + (x - m2) * (s1/s2))\n",
    "    return(new_data)\n",
    "   \n",
    "\n"
   ]
  },
  {
   "cell_type": "code",
   "execution_count": 45,
   "id": "150d9301-b7cb-4af7-a4ed-078abaabe46d",
   "metadata": {},
   "outputs": [
    {
     "data": {
      "text/html": [
       "<div>\n",
       "<style scoped>\n",
       "    .dataframe tbody tr th:only-of-type {\n",
       "        vertical-align: middle;\n",
       "    }\n",
       "\n",
       "    .dataframe tbody tr th {\n",
       "        vertical-align: top;\n",
       "    }\n",
       "\n",
       "    .dataframe thead th {\n",
       "        text-align: right;\n",
       "    }\n",
       "</style>\n",
       "<table border=\"1\" class=\"dataframe\">\n",
       "  <thead>\n",
       "    <tr style=\"text-align: right;\">\n",
       "      <th></th>\n",
       "      <th>6</th>\n",
       "      <th>7</th>\n",
       "      <th>8</th>\n",
       "    </tr>\n",
       "  </thead>\n",
       "  <tbody>\n",
       "    <tr>\n",
       "      <th>0</th>\n",
       "      <td>-1.0</td>\n",
       "      <td>16.0</td>\n",
       "      <td>7.0</td>\n",
       "    </tr>\n",
       "    <tr>\n",
       "      <th>1</th>\n",
       "      <td>51.0</td>\n",
       "      <td>138.0</td>\n",
       "      <td>6.0</td>\n",
       "    </tr>\n",
       "    <tr>\n",
       "      <th>2</th>\n",
       "      <td>NaN</td>\n",
       "      <td>NaN</td>\n",
       "      <td>NaN</td>\n",
       "    </tr>\n",
       "    <tr>\n",
       "      <th>3</th>\n",
       "      <td>NaN</td>\n",
       "      <td>NaN</td>\n",
       "      <td>NaN</td>\n",
       "    </tr>\n",
       "    <tr>\n",
       "      <th>4</th>\n",
       "      <td>NaN</td>\n",
       "      <td>NaN</td>\n",
       "      <td>NaN</td>\n",
       "    </tr>\n",
       "  </tbody>\n",
       "</table>\n",
       "</div>"
      ],
      "text/plain": [
       "      6      7    8\n",
       "0  -1.0   16.0  7.0\n",
       "1  51.0  138.0  6.0\n",
       "2   NaN    NaN  NaN\n",
       "3   NaN    NaN  NaN\n",
       "4   NaN    NaN  NaN"
      ]
     },
     "execution_count": 45,
     "metadata": {},
     "output_type": "execute_result"
    }
   ],
   "source": [
    "new_data.head()"
   ]
  },
  {
   "cell_type": "code",
   "execution_count": 51,
   "id": "a2c6abac-63db-4046-a0f5-1e65a840803a",
   "metadata": {},
   "outputs": [
    {
     "data": {
      "text/html": [
       "<div>\n",
       "<style scoped>\n",
       "    .dataframe tbody tr th:only-of-type {\n",
       "        vertical-align: middle;\n",
       "    }\n",
       "\n",
       "    .dataframe tbody tr th {\n",
       "        vertical-align: top;\n",
       "    }\n",
       "\n",
       "    .dataframe thead th {\n",
       "        text-align: right;\n",
       "    }\n",
       "</style>\n",
       "<table border=\"1\" class=\"dataframe\">\n",
       "  <thead>\n",
       "    <tr style=\"text-align: right;\">\n",
       "      <th></th>\n",
       "      <th>6</th>\n",
       "      <th>7</th>\n",
       "      <th>8</th>\n",
       "    </tr>\n",
       "  </thead>\n",
       "  <tbody>\n",
       "    <tr>\n",
       "      <th>0</th>\n",
       "      <td>-16.541776</td>\n",
       "      <td>16.0</td>\n",
       "      <td>7.0</td>\n",
       "    </tr>\n",
       "    <tr>\n",
       "      <th>1</th>\n",
       "      <td>35.776021</td>\n",
       "      <td>138.0</td>\n",
       "      <td>6.0</td>\n",
       "    </tr>\n",
       "    <tr>\n",
       "      <th>2</th>\n",
       "      <td>NaN</td>\n",
       "      <td>NaN</td>\n",
       "      <td>NaN</td>\n",
       "    </tr>\n",
       "    <tr>\n",
       "      <th>3</th>\n",
       "      <td>NaN</td>\n",
       "      <td>NaN</td>\n",
       "      <td>NaN</td>\n",
       "    </tr>\n",
       "    <tr>\n",
       "      <th>4</th>\n",
       "      <td>NaN</td>\n",
       "      <td>NaN</td>\n",
       "      <td>NaN</td>\n",
       "    </tr>\n",
       "  </tbody>\n",
       "</table>\n",
       "</div>"
      ],
      "text/plain": [
       "           6      7    8\n",
       "0 -16.541776   16.0  7.0\n",
       "1  35.776021  138.0  6.0\n",
       "2        NaN    NaN  NaN\n",
       "3        NaN    NaN  NaN\n",
       "4        NaN    NaN  NaN"
      ]
     },
     "execution_count": 51,
     "metadata": {},
     "output_type": "execute_result"
    }
   ],
   "source": [
    "new_data2 = new_data.copy()\n",
    "new_data2[6] = new_data2[6].map(lambda x: m1 + (x - m2) * (s1/s2))\n",
    "new_data2.head()"
   ]
  },
  {
   "cell_type": "code",
   "execution_count": 52,
   "id": "f42e4544-830d-41e1-8d78-5a3e50dc19c0",
   "metadata": {},
   "outputs": [
    {
     "data": {
      "text/plain": [
       "231.48045521402776"
      ]
     },
     "execution_count": 52,
     "metadata": {},
     "output_type": "execute_result"
    }
   ],
   "source": [
    "new_data2[6].mean()"
   ]
  },
  {
   "cell_type": "code",
   "execution_count": 53,
   "id": "cffef767-4b90-4c74-a897-1fd57ef412d7",
   "metadata": {},
   "outputs": [
    {
     "data": {
      "text/plain": [
       "286.58114206911046"
      ]
     },
     "execution_count": 53,
     "metadata": {},
     "output_type": "execute_result"
    }
   ],
   "source": [
    "new_data2[6].std()"
   ]
  },
  {
   "cell_type": "code",
   "execution_count": 74,
   "id": "e4a172ca-a1dd-41ea-a5d2-16771061bb88",
   "metadata": {},
   "outputs": [
    {
     "data": {
      "text/html": [
       "<div>\n",
       "<style scoped>\n",
       "    .dataframe tbody tr th:only-of-type {\n",
       "        vertical-align: middle;\n",
       "    }\n",
       "\n",
       "    .dataframe tbody tr th {\n",
       "        vertical-align: top;\n",
       "    }\n",
       "\n",
       "    .dataframe thead th {\n",
       "        text-align: right;\n",
       "    }\n",
       "</style>\n",
       "<table border=\"1\" class=\"dataframe\">\n",
       "  <thead>\n",
       "    <tr style=\"text-align: right;\">\n",
       "      <th></th>\n",
       "      <th>6</th>\n",
       "      <th>7</th>\n",
       "      <th>8</th>\n",
       "    </tr>\n",
       "  </thead>\n",
       "  <tbody>\n",
       "    <tr>\n",
       "      <th>0</th>\n",
       "      <td>-16.541776</td>\n",
       "      <td>-32.907704</td>\n",
       "      <td>-30.545765</td>\n",
       "    </tr>\n",
       "    <tr>\n",
       "      <th>1</th>\n",
       "      <td>35.776021</td>\n",
       "      <td>99.083980</td>\n",
       "      <td>-31.528885</td>\n",
       "    </tr>\n",
       "    <tr>\n",
       "      <th>2</th>\n",
       "      <td>NaN</td>\n",
       "      <td>NaN</td>\n",
       "      <td>NaN</td>\n",
       "    </tr>\n",
       "    <tr>\n",
       "      <th>3</th>\n",
       "      <td>NaN</td>\n",
       "      <td>NaN</td>\n",
       "      <td>NaN</td>\n",
       "    </tr>\n",
       "    <tr>\n",
       "      <th>4</th>\n",
       "      <td>NaN</td>\n",
       "      <td>NaN</td>\n",
       "      <td>NaN</td>\n",
       "    </tr>\n",
       "  </tbody>\n",
       "</table>\n",
       "</div>"
      ],
      "text/plain": [
       "           6          7          8\n",
       "0 -16.541776 -32.907704 -30.545765\n",
       "1  35.776021  99.083980 -31.528885\n",
       "2        NaN        NaN        NaN\n",
       "3        NaN        NaN        NaN\n",
       "4        NaN        NaN        NaN"
      ]
     },
     "execution_count": 74,
     "metadata": {},
     "output_type": "execute_result"
    }
   ],
   "source": [
    "#apply to column\n",
    "def transform_mean_std(train_data, new_data, cols):\n",
    "    \n",
    "# \t\"\"\"arguments are the mean and std from training data, \n",
    "#     the new data which is an dataframe representing an image,\n",
    "#     and the cols to tranform the new data on.  This will make it so the new data matches\n",
    "#     the mean and std of the training data\"\"\"\n",
    "    \n",
    "    str_cols = [str(i) for i in cols]\n",
    "    \n",
    "    for col in cols:\n",
    "        \n",
    "        m1 = train_data.iloc[0][str(col)] #first row is mean\n",
    "        s1 = train_data.iloc[1][str(col)] #second row is std\n",
    "\n",
    "        m2 = new_data[col].mean()\n",
    "        s2 = new_data[col].std()\n",
    "        new_data[col] = new_data[col].map(lambda x: m1 + (x - m2) * (s1/s2))\n",
    "    new_data = new_data[cols]  \n",
    "    return(new_data)\n",
    "   \n",
    "t1 = pd.read_csv(\"/explore/nobackup/people/spotter5/cnn_mapping/nbac_training/l8_sent_collection2_0_global_stand.csv\")\n",
    "t2 = final[0]\n",
    "\n",
    "out = transform_mean_std(train_data = t1, new_data = t2, cols = [6,7,8])\n",
    "\n",
    "out.head()"
   ]
  },
  {
   "cell_type": "code",
   "execution_count": 72,
   "id": "2808878f-64bb-4a5c-a639-cc719c8812ea",
   "metadata": {},
   "outputs": [
    {
     "data": {
      "text/plain": [
       "146.1401857459853"
      ]
     },
     "execution_count": 72,
     "metadata": {},
     "output_type": "execute_result"
    }
   ],
   "source": [
    "out[8].mean()"
   ]
  },
  {
   "cell_type": "code",
   "execution_count": 73,
   "id": "d1c5263e-8e56-40f9-be09-9b004bcdc733",
   "metadata": {},
   "outputs": [
    {
     "data": {
      "text/plain": [
       "166.03682860552112"
      ]
     },
     "execution_count": 73,
     "metadata": {},
     "output_type": "execute_result"
    }
   ],
   "source": [
    "out[7].std()"
   ]
  },
  {
   "cell_type": "code",
   "execution_count": null,
   "id": "9d25ad31-8dad-4af8-9d7d-45f298dd600e",
   "metadata": {},
   "outputs": [],
   "source": []
  }
 ],
 "metadata": {
  "kernelspec": {
   "display_name": "Python [conda env:.conda-deeplearning]",
   "language": "python",
   "name": "conda-env-.conda-deeplearning-py"
  },
  "language_info": {
   "codemirror_mode": {
    "name": "ipython",
    "version": 3
   },
   "file_extension": ".py",
   "mimetype": "text/x-python",
   "name": "python",
   "nbconvert_exporter": "python",
   "pygments_lexer": "ipython3",
   "version": "3.10.11"
  }
 },
 "nbformat": 4,
 "nbformat_minor": 5
}
