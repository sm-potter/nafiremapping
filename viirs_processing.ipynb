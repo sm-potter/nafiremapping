{
 "cells": [
  {
   "cell_type": "code",
   "execution_count": null,
   "id": "84a4b9c3-f716-434c-a6b6-ebdc2215ff51",
   "metadata": {},
   "outputs": [
    {
     "name": "stderr",
     "output_type": "stream",
     "text": [
      "Linking to GEOS 3.11.0, GDAL 3.5.2, PROJ 9.0.1; sf_use_s2() is TRUE\n",
      "\n",
      "WARNING: different compile-time and runtime versions for GEOS found:\n",
      "\n",
      "Linked against: 3.11.0-CAPI-1.17.0 compiled against: 3.10.3-CAPI-1.16.1\n",
      "\n",
      "It is probably a good idea to reinstall sf, and maybe rgeos and rgdal too\n",
      "\n",
      "── \u001b[1mAttaching packages\u001b[22m ─────────────────────────────────────── tidyverse 1.3.2 ──\n",
      "\u001b[32m✔\u001b[39m \u001b[34mggplot2\u001b[39m 3.3.6      \u001b[32m✔\u001b[39m \u001b[34mpurrr  \u001b[39m 0.3.4 \n",
      "\u001b[32m✔\u001b[39m \u001b[34mtibble \u001b[39m 3.1.8      \u001b[32m✔\u001b[39m \u001b[34mdplyr  \u001b[39m 1.0.10\n",
      "\u001b[32m✔\u001b[39m \u001b[34mtidyr  \u001b[39m 1.2.1      \u001b[32m✔\u001b[39m \u001b[34mstringr\u001b[39m 1.4.1 \n",
      "\u001b[32m✔\u001b[39m \u001b[34mreadr  \u001b[39m 2.1.2      \u001b[32m✔\u001b[39m \u001b[34mforcats\u001b[39m 0.5.2 \n",
      "── \u001b[1mConflicts\u001b[22m ────────────────────────────────────────── tidyverse_conflicts() ──\n",
      "\u001b[31m✖\u001b[39m \u001b[34mdplyr\u001b[39m::\u001b[32mfilter()\u001b[39m masks \u001b[34mstats\u001b[39m::filter()\n",
      "\u001b[31m✖\u001b[39m \u001b[34mdplyr\u001b[39m::\u001b[32mlag()\u001b[39m    masks \u001b[34mstats\u001b[39m::lag()\n",
      "\n",
      "Attaching package: ‘lubridate’\n",
      "\n",
      "\n",
      "The following objects are masked from ‘package:base’:\n",
      "\n",
      "    date, intersect, setdiff, union\n",
      "\n",
      "\n"
     ]
    }
   ],
   "source": [
    "library(sf)\n",
    "library(tidyverse)\n",
    "library(lubridate)\n",
    "\n",
    "#--------this script will save the day of year a burn took place for viirs so that I can convert it back to raster later\n",
    "\n",
    "#note this viirs for circumpolar\n",
    "\n",
    "#just use SNPP which is collection 2, NOAA is collection 1 still\n",
    "one = read_sf('/explore/nobackup/people/spotter5/cnn_mapping/VIIRS/DL_FIRE_SV-C2_351277/fire_archive_SV-C2_365468.shp') %>% \n",
    "  mutate(Year = as.integer(lubridate::year(ACQ_DATE))) %>%\n",
    "  mutate(dob = as.integer(lubridate::yday(ACQ_DATE))) %>%\n",
    "  dplyr::select(Year, dob, CONFIDENCE) \n",
    "\n",
    "#this is 2023, note it is not complete now so don't use\n",
    "# two = read_sf('/explore/nobackup/people/spotter5/cnn_mapping/VIIRS/DL_FIRE_SV-C2_351277/fire_archive_SV-C2_351277.shp')  %>% \n",
    "#   mutate(Year = as.integer(lubridate::year(ACQ_DATE))) %>%\n",
    "#   mutate(dob = as.integer(lubridate::yday(ACQ_DATE))) %>%\n",
    "#   \n",
    "#   dplyr::select(Year, dob,  CONFIDENCE) \n",
    "\n",
    "#merge if needed\n",
    "# viirs = bind_rows(one, two)\n",
    "\n",
    "viirs = one\n",
    "\n",
    "out_path = '/explore/nobackup/people/spotter5/cnn_mapping/VIIRS/pts_by_year'\n",
    "dir.create(out_path, recursive = T)\n",
    "\n",
    "#loop through and send shapefiles out by year\n",
    "for(y in unique(viirs$Year)){\n",
    "  \n",
    "  sub = viirs %>% filter(Year == y) %>% drop_na() %>% st_as_sf()\n",
    "  \n",
    "  #if we want to filter confidence to nominal and high (the two best), here is where to do it, right now I am not\n",
    "  sub <- sub %>% filter(CONFIDENCE %in% c('nominal', 'high'))\n",
    "  \n",
    "  write_sf(sub, file.path(out_path, paste0(y, '.shp')))\n",
    "  \n",
    "  print(y)\n",
    "  \n",
    "}\n",
    "#save viirs, then we go into the python script viirs_to_ras which will convert the points to rasters with a resolution of 375 meters in the grid of choice\n"
   ]
  },
  {
   "cell_type": "code",
   "execution_count": null,
   "id": "87a42b98-37c7-4071-a6b4-59b2e3d9d9ae",
   "metadata": {},
   "outputs": [
    {
     "name": "stderr",
     "output_type": "stream",
     "text": [
      "Linking to GEOS 3.11.0, GDAL 3.5.2, PROJ 9.0.1; sf_use_s2() is TRUE\n",
      "\n",
      "WARNING: different compile-time and runtime versions for GEOS found:\n",
      "\n",
      "Linked against: 3.11.0-CAPI-1.17.0 compiled against: 3.10.3-CAPI-1.16.1\n",
      "\n",
      "It is probably a good idea to reinstall sf, and maybe rgeos and rgdal too\n",
      "\n",
      "── \u001b[1mAttaching packages\u001b[22m ─────────────────────────────────────── tidyverse 1.3.2 ──\n",
      "\u001b[32m✔\u001b[39m \u001b[34mggplot2\u001b[39m 3.3.6      \u001b[32m✔\u001b[39m \u001b[34mpurrr  \u001b[39m 0.3.4 \n",
      "\u001b[32m✔\u001b[39m \u001b[34mtibble \u001b[39m 3.1.8      \u001b[32m✔\u001b[39m \u001b[34mdplyr  \u001b[39m 1.0.10\n",
      "\u001b[32m✔\u001b[39m \u001b[34mtidyr  \u001b[39m 1.2.1      \u001b[32m✔\u001b[39m \u001b[34mstringr\u001b[39m 1.4.1 \n",
      "\u001b[32m✔\u001b[39m \u001b[34mreadr  \u001b[39m 2.1.2      \u001b[32m✔\u001b[39m \u001b[34mforcats\u001b[39m 0.5.2 \n",
      "── \u001b[1mConflicts\u001b[22m ────────────────────────────────────────── tidyverse_conflicts() ──\n",
      "\u001b[31m✖\u001b[39m \u001b[34mdplyr\u001b[39m::\u001b[32mfilter()\u001b[39m masks \u001b[34mstats\u001b[39m::filter()\n",
      "\u001b[31m✖\u001b[39m \u001b[34mdplyr\u001b[39m::\u001b[32mlag()\u001b[39m    masks \u001b[34mstats\u001b[39m::lag()\n",
      "\n",
      "Attaching package: ‘lubridate’\n",
      "\n",
      "\n",
      "The following objects are masked from ‘package:base’:\n",
      "\n",
      "    date, intersect, setdiff, union\n",
      "\n",
      "\n"
     ]
    }
   ],
   "source": [
    "library(sf)\n",
    "library(tidyverse)\n",
    "library(lubridate)\n",
    "\n",
    "#--------this script will save the day of year a burn took place for viirs so that I can convert it back to raster later\n",
    "\n",
    "#note this viirs for circumpolar\n",
    "\n",
    "#just use SNPP which is collection 2, NOAA is collection 1 still\n",
    "one = read_sf('/explore/nobackup/people/spotter5/cnn_mapping/VIIRS/DL_FIRE_SV-C2_351277/fire_archive_SV-C2_365468.shp') %>% \n",
    "  mutate(Year = as.integer(lubridate::year(ACQ_DATE))) %>%\n",
    "  mutate(dob = as.integer(lubridate::yday(ACQ_DATE))) %>%\n",
    "  dplyr::select(Year, dob, CONFIDENCE) %>%\n",
    "    filter(\n",
    "        st_geometry_type(.)\n",
    "        %in% c(\"POINT\") )\n",
    "\n"
   ]
  },
  {
   "cell_type": "code",
   "execution_count": null,
   "id": "9a850f77-4cc7-42ed-b0d1-bd5086dff8cb",
   "metadata": {},
   "outputs": [],
   "source": [
    "'t'"
   ]
  },
  {
   "cell_type": "code",
   "execution_count": null,
   "id": "c76db2a5-2263-422e-99d1-ea74ed17acc0",
   "metadata": {},
   "outputs": [],
   "source": []
  }
 ],
 "metadata": {
  "kernelspec": {
   "display_name": "R [conda env:.conda-spotter-r]",
   "language": "R",
   "name": "conda-env-.conda-spotter-r-r"
  },
  "language_info": {
   "codemirror_mode": "r",
   "file_extension": ".r",
   "mimetype": "text/x-r-source",
   "name": "R",
   "pygments_lexer": "r",
   "version": "4.1.3"
  }
 },
 "nbformat": 4,
 "nbformat_minor": 5
}
